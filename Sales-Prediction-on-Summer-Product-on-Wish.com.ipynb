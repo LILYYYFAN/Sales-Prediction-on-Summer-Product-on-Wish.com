{
  "nbformat": 4,
  "nbformat_minor": 5,
  "metadata": {
    "colab": {
      "name": "BAP_level_adjusted_parameters_(1).ipynb",
      "provenance": [],
      "collapsed_sections": [
        "TjdfgolLde1d",
        "yFW11r2Ide1e",
        "wDNFagUtde1g",
        "cwBpoNXAde1g",
        "NTB7vYcsde1l",
        "JRsq9j8-de1m"
      ]
    },
    "interpreter": {
      "hash": "dca0ade3e726a953b501b15e8e990130d2b7799f14cfd9f4271676035ebe5511"
    },
    "kernelspec": {
      "display_name": "Python 3",
      "language": "python",
      "name": "python3"
    },
    "language_info": {
      "codemirror_mode": {
        "name": "ipython",
        "version": 3
      },
      "file_extension": ".py",
      "mimetype": "text/x-python",
      "name": "python",
      "nbconvert_exporter": "python",
      "pygments_lexer": "ipython3",
      "version": "3.7.0"
    }
  },
  "cells": [
    {
      "cell_type": "code",
      "metadata": {
        "id": "364306d8"
      },
      "source": [
        "import pandas as pd\n",
        "import numpy as np\n",
        "import matplotlib\n",
        "import warnings\n",
        "warnings.filterwarnings(\"ignore\")\n",
        "\n",
        "import string\n",
        "import nltk\n",
        "from nltk import word_tokenize, FreqDist, SnowballStemmer, pos_tag\n",
        "from nltk.corpus import stopwords\n",
        "\n",
        "import matplotlib.pyplot as plt\n",
        "import matplotlib\n",
        "import seaborn as sns\n",
        "\n",
        "from statsmodels.stats.outliers_influence import variance_inflation_factor as vif\n",
        "from sklearn.model_selection import train_test_split\n",
        "from sklearn.feature_selection import SelectKBest\n",
        "from sklearn.feature_selection import mutual_info_classif\n",
        "\n",
        "from sklearn.neural_network import MLPClassifier\n",
        "from sklearn.preprocessing import StandardScaler\n",
        "\n",
        "from sklearn.metrics import confusion_matrix, accuracy_score\n",
        "from sklearn.tree import DecisionTreeClassifier\n",
        "from sklearn.metrics import r2_score\n",
        "\n",
        "from sklearn.ensemble import RandomForestClassifier"
      ],
      "id": "364306d8",
      "execution_count": 101,
      "outputs": []
    },
    {
      "cell_type": "code",
      "metadata": {
        "colab": {
          "base_uri": "https://localhost:8080/"
        },
        "id": "2a5d4f95",
        "outputId": "0085317f-68e7-49ae-8916-227b596809fc"
      },
      "source": [
        "data = pd.read_csv('Wish Summer Product Data.csv')\n",
        "#data.head()\n",
        "data.shape"
      ],
      "id": "2a5d4f95",
      "execution_count": 102,
      "outputs": [
        {
          "output_type": "execute_result",
          "data": {
            "text/plain": [
              "(1573, 43)"
            ]
          },
          "metadata": {},
          "execution_count": 102
        }
      ]
    },
    {
      "cell_type": "code",
      "metadata": {
        "id": "af86849e",
        "scrolled": true,
        "colab": {
          "base_uri": "https://localhost:8080/"
        },
        "outputId": "33d525c2-3d62-46c8-9b35-8a69dc60624c"
      },
      "source": [
        "data.columns"
      ],
      "id": "af86849e",
      "execution_count": null,
      "outputs": [
        {
          "output_type": "execute_result",
          "data": {
            "text/plain": [
              "Index(['title', 'title_orig', 'price', 'retail_price', 'currency_buyer',\n",
              "       'units_sold', 'uses_ad_boosts', 'rating', 'rating_count',\n",
              "       'rating_five_count', 'rating_four_count', 'rating_three_count',\n",
              "       'rating_two_count', 'rating_one_count', 'badges_count',\n",
              "       'badge_local_product', 'badge_product_quality', 'badge_fast_shipping',\n",
              "       'tags', 'product_color', 'product_variation_size_id',\n",
              "       'product_variation_inventory', 'shipping_option_name',\n",
              "       'shipping_option_price', 'shipping_is_express', 'countries_shipped_to',\n",
              "       'inventory_total', 'has_urgency_banner', 'urgency_text',\n",
              "       'origin_country', 'merchant_title', 'merchant_name',\n",
              "       'merchant_info_subtitle', 'merchant_rating_count', 'merchant_rating',\n",
              "       'merchant_id', 'merchant_has_profile_picture',\n",
              "       'merchant_profile_picture', 'product_url', 'product_picture',\n",
              "       'product_id', 'theme', 'crawl_month'],\n",
              "      dtype='object')"
            ]
          },
          "metadata": {},
          "execution_count": 5
        }
      ]
    },
    {
      "cell_type": "code",
      "metadata": {
        "id": "SXr_UtwZde1O",
        "colab": {
          "base_uri": "https://localhost:8080/"
        },
        "outputId": "99dbbea4-cdea-4595-ff52-096d7c7c71d3"
      },
      "source": [
        "data.isna().sum()"
      ],
      "id": "SXr_UtwZde1O",
      "execution_count": null,
      "outputs": [
        {
          "output_type": "execute_result",
          "data": {
            "text/plain": [
              "title                              0\n",
              "title_orig                         0\n",
              "price                              0\n",
              "retail_price                       0\n",
              "currency_buyer                     0\n",
              "units_sold                         0\n",
              "uses_ad_boosts                     0\n",
              "rating                             0\n",
              "rating_count                       0\n",
              "rating_five_count                 45\n",
              "rating_four_count                 45\n",
              "rating_three_count                45\n",
              "rating_two_count                  45\n",
              "rating_one_count                  45\n",
              "badges_count                       0\n",
              "badge_local_product                0\n",
              "badge_product_quality              0\n",
              "badge_fast_shipping                0\n",
              "tags                               0\n",
              "product_color                     41\n",
              "product_variation_size_id         14\n",
              "product_variation_inventory        0\n",
              "shipping_option_name               0\n",
              "shipping_option_price              0\n",
              "shipping_is_express                0\n",
              "countries_shipped_to               0\n",
              "inventory_total                    0\n",
              "has_urgency_banner              1100\n",
              "urgency_text                    1100\n",
              "origin_country                    17\n",
              "merchant_title                     0\n",
              "merchant_name                      4\n",
              "merchant_info_subtitle             1\n",
              "merchant_rating_count              0\n",
              "merchant_rating                    0\n",
              "merchant_id                        0\n",
              "merchant_has_profile_picture       0\n",
              "merchant_profile_picture        1347\n",
              "product_url                        0\n",
              "product_picture                    0\n",
              "product_id                         0\n",
              "theme                              0\n",
              "crawl_month                        0\n",
              "dtype: int64"
            ]
          },
          "metadata": {},
          "execution_count": 6
        }
      ]
    },
    {
      "cell_type": "markdown",
      "metadata": {
        "id": "YiILz4JEde1P"
      },
      "source": [
        "# Data Pre-processing"
      ],
      "id": "YiILz4JEde1P"
    },
    {
      "cell_type": "code",
      "metadata": {
        "id": "rHVnYPyZde1Z"
      },
      "source": [
        "# Since the following features have no impact on the data analysis, remove them initially \n",
        "to_drop = ['product_variation_size_id', 'product_variation_inventory', 'shipping_option_name', 'countries_shipped_to','urgency_text',\n",
        "          'origin_country', 'merchant_title', 'merchant_name','merchant_info_subtitle', 'merchant_id',\n",
        "           'product_id', 'theme', 'crawl_month', 'currency_buyer']\n",
        "data = data.drop(columns= to_drop)"
      ],
      "id": "rHVnYPyZde1Z",
      "execution_count": null,
      "outputs": []
    },
    {
      "cell_type": "code",
      "metadata": {
        "colab": {
          "base_uri": "https://localhost:8080/"
        },
        "id": "eHVhSBtCde0r",
        "outputId": "e1cbae09-8172-49c3-cd4f-c11e5c50ec58"
      },
      "source": [
        "data.shape"
      ],
      "id": "eHVhSBtCde0r",
      "execution_count": null,
      "outputs": [
        {
          "output_type": "execute_result",
          "data": {
            "text/plain": [
              "(1573, 29)"
            ]
          },
          "metadata": {},
          "execution_count": 8
        }
      ]
    },
    {
      "cell_type": "code",
      "metadata": {
        "colab": {
          "base_uri": "https://localhost:8080/"
        },
        "id": "T5PsfU4jde1a",
        "outputId": "c800d780-c508-49cc-c1ba-cbb4ed95c8f3"
      },
      "source": [
        "# All the rating_NO._count columns has as many missing values\n",
        "# It is necessary to explore their relationship with the associated rating_count column(no missing values) \n",
        "# to know what to do with them\n",
        "\n",
        "print(data.loc[data['rating_one_count'].isna(),'rating_count'].value_counts())\n",
        "print(data.loc[data['rating_five_count'].isna(),'rating_count'].value_counts())\n",
        "\n",
        "# All values in the rating_count column are 0 where there are NA values in rating_NO._count columns"
      ],
      "id": "T5PsfU4jde1a",
      "execution_count": null,
      "outputs": [
        {
          "output_type": "stream",
          "name": "stdout",
          "text": [
            "0    45\n",
            "Name: rating_count, dtype: int64\n",
            "0    45\n",
            "Name: rating_count, dtype: int64\n"
          ]
        }
      ]
    },
    {
      "cell_type": "code",
      "metadata": {
        "id": "k9n7-KTOde1a"
      },
      "source": [
        "#So the missing values in rating_NO._count columns should be replaced by 0\n",
        "rating_number_columns = ['rating_one_count','rating_two_count','rating_three_count',\n",
        "                  'rating_four_count','rating_five_count']\n",
        "data[rating_number_columns] = data[rating_number_columns].fillna(value = 0)"
      ],
      "id": "k9n7-KTOde1a",
      "execution_count": null,
      "outputs": []
    },
    {
      "cell_type": "code",
      "metadata": {
        "colab": {
          "base_uri": "https://localhost:8080/"
        },
        "id": "_S5xFXoBde1b",
        "outputId": "49c0cc35-7df5-40d0-aea6-58d1aafd9a31"
      },
      "source": [
        "data['units_sold'].value_counts()"
      ],
      "id": "_S5xFXoBde1b",
      "execution_count": 103,
      "outputs": [
        {
          "output_type": "execute_result",
          "data": {
            "text/plain": [
              "100       509\n",
              "1000      405\n",
              "5000      217\n",
              "10000     177\n",
              "20000     103\n",
              "50         76\n",
              "10         49\n",
              "50000      17\n",
              "100000      6\n",
              "8           4\n",
              "1           3\n",
              "7           2\n",
              "3           2\n",
              "2           2\n",
              "6           1\n",
              "Name: units_sold, dtype: int64"
            ]
          },
          "metadata": {},
          "execution_count": 103
        }
      ]
    },
    {
      "cell_type": "code",
      "metadata": {
        "colab": {
          "base_uri": "https://localhost:8080/"
        },
        "id": "jPc6OKB_de1b",
        "outputId": "c01b8118-b3e4-43f2-ca91-74ab061ec705"
      },
      "source": [
        "# Since the amount of data for units_sold less than 10 is very small\n",
        "# Delete the rows for units_sold less than 10 to unify the data level\n",
        "data = data[~(data['units_sold']<10)]\n",
        "data['units_sold'].unique()"
      ],
      "id": "jPc6OKB_de1b",
      "execution_count": null,
      "outputs": [
        {
          "output_type": "execute_result",
          "data": {
            "text/plain": [
              "array([   100,  20000,   5000,     10,  50000,   1000,  10000, 100000,\n",
              "           50])"
            ]
          },
          "metadata": {},
          "execution_count": 12
        }
      ]
    },
    {
      "cell_type": "code",
      "metadata": {
        "colab": {
          "base_uri": "https://localhost:8080/"
        },
        "id": "8dGSmPs9de1c",
        "outputId": "7b0ac37d-22b8-4143-ae22-347e700a4553"
      },
      "source": [
        "data['has_urgency_banner'].unique()\n",
        "# Judging from the definition，this column should be binary."
      ],
      "id": "8dGSmPs9de1c",
      "execution_count": null,
      "outputs": [
        {
          "output_type": "execute_result",
          "data": {
            "text/plain": [
              "array([ 1., nan])"
            ]
          },
          "metadata": {},
          "execution_count": 13
        }
      ]
    },
    {
      "cell_type": "code",
      "metadata": {
        "colab": {
          "base_uri": "https://localhost:8080/"
        },
        "id": "KNy9Z50ide1c",
        "outputId": "d8bbac18-ded1-418e-9cae-45c1db027810"
      },
      "source": [
        "data['has_urgency_banner'] = data['has_urgency_banner'].fillna(value = 0)\n",
        "data['has_urgency_banner'].unique()"
      ],
      "id": "KNy9Z50ide1c",
      "execution_count": null,
      "outputs": [
        {
          "output_type": "execute_result",
          "data": {
            "text/plain": [
              "array([1., 0.])"
            ]
          },
          "metadata": {},
          "execution_count": 14
        }
      ]
    },
    {
      "cell_type": "code",
      "metadata": {
        "colab": {
          "base_uri": "https://localhost:8080/"
        },
        "id": "79f5ae3d",
        "outputId": "a0b2371f-0ad8-43cf-d6ba-b2f7d2245be9"
      },
      "source": [
        "dup=data.duplicated()\n",
        "sum(dup)"
      ],
      "id": "79f5ae3d",
      "execution_count": null,
      "outputs": [
        {
          "output_type": "execute_result",
          "data": {
            "text/plain": [
              "33"
            ]
          },
          "metadata": {},
          "execution_count": 15
        }
      ]
    },
    {
      "cell_type": "code",
      "metadata": {
        "colab": {
          "base_uri": "https://localhost:8080/"
        },
        "id": "d52b5fb1",
        "outputId": "134237c5-a0f1-41cf-f393-6921edaef589"
      },
      "source": [
        "data = data.drop_duplicates()\n",
        "data.shape"
      ],
      "id": "d52b5fb1",
      "execution_count": null,
      "outputs": [
        {
          "output_type": "execute_result",
          "data": {
            "text/plain": [
              "(1526, 29)"
            ]
          },
          "metadata": {},
          "execution_count": 16
        }
      ]
    },
    {
      "cell_type": "code",
      "metadata": {
        "id": "nJStLC37de1d"
      },
      "source": [
        "# Creat new feature 'discount'\n",
        "data['discount'] = (data['retail_price'] - data['price'])/data['retail_price']*100"
      ],
      "id": "nJStLC37de1d",
      "execution_count": null,
      "outputs": []
    },
    {
      "cell_type": "code",
      "metadata": {
        "id": "aSm_XdtWde0u"
      },
      "source": [
        "#Since discount can represent the relationship of retail_price and price,keep only one of them is enough\n",
        "#Price is the information that customers see directly, so we choose to keep it as representation\n",
        "data.drop(columns = 'retail_price', inplace = True)"
      ],
      "id": "aSm_XdtWde0u",
      "execution_count": null,
      "outputs": []
    },
    {
      "cell_type": "code",
      "metadata": {
        "colab": {
          "base_uri": "https://localhost:8080/"
        },
        "id": "890N2FVWde0u",
        "outputId": "ff76ad8f-9f4f-4530-ae12-8991efd654ef"
      },
      "source": [
        "for colname in data.columns:\n",
        "    if data[colname].isnull().any()==True:\n",
        "        print(colname)\n",
        "# There are still two columns which have null values. They will be dealt with later"
      ],
      "id": "890N2FVWde0u",
      "execution_count": null,
      "outputs": [
        {
          "output_type": "stream",
          "name": "stdout",
          "text": [
            "product_color\n",
            "merchant_profile_picture\n"
          ]
        }
      ]
    },
    {
      "cell_type": "code",
      "metadata": {
        "colab": {
          "base_uri": "https://localhost:8080/"
        },
        "id": "UMlJ7vSdde0u",
        "outputId": "87ed0fc1-82d7-48c0-f7ec-12d4f4a79b8d"
      },
      "source": [
        "#Now we deal with outliers\n",
        "#Find out features that are not binary first\n",
        "describe = data.describe().T\n",
        "non_binary_col_names =describe.loc[data.nunique()!=2].index.tolist()\n",
        "non_binary_col = data[non_binary_col_names]\n",
        "non_binary_col_names"
      ],
      "id": "UMlJ7vSdde0u",
      "execution_count": null,
      "outputs": [
        {
          "output_type": "execute_result",
          "data": {
            "text/plain": [
              "['price',\n",
              " 'units_sold',\n",
              " 'rating',\n",
              " 'rating_count',\n",
              " 'rating_five_count',\n",
              " 'rating_four_count',\n",
              " 'rating_three_count',\n",
              " 'rating_two_count',\n",
              " 'rating_one_count',\n",
              " 'badges_count',\n",
              " 'shipping_option_price',\n",
              " 'inventory_total',\n",
              " 'merchant_rating_count',\n",
              " 'merchant_rating',\n",
              " 'discount']"
            ]
          },
          "metadata": {},
          "execution_count": 20
        }
      ]
    },
    {
      "cell_type": "code",
      "metadata": {
        "colab": {
          "base_uri": "https://localhost:8080/"
        },
        "id": "AO64OvOUde0u",
        "outputId": "9a02f5ff-0ad7-4c9e-8b66-79782412d1e2"
      },
      "source": [
        "def Zscore_outlier(df):\n",
        "    m = np.mean(df)\n",
        "    sd = np.std(df)\n",
        "    for i in df: \n",
        "        z = (i-m)/sd\n",
        "        if np.abs(z) > 3: \n",
        "            outliers.append(i)\n",
        "    return outliers\n",
        "    \n",
        "for i in range(non_binary_col.shape[1]):\n",
        "    outliers=[]\n",
        "    print('Unique outliers for',non_binary_col_names[i],':',set(Zscore_outlier(non_binary_col.iloc[:,i])))\n",
        "    print('------------------------------------------------------------------------------------------------------------------------------')\n",
        "\n",
        "#Judging from z-score,there are outliers for all non-binary features except discount\n",
        "#However, after examniate these values, we believe that they should be reasonable, so we don't make adjustments and save them till later"
      ],
      "id": "AO64OvOUde0u",
      "execution_count": null,
      "outputs": [
        {
          "output_type": "stream",
          "name": "stdout",
          "text": [
            "Unique outliers for price : {49.0, 22.0, 23.0, 24.0, 25.0, 26.0, 27.0}\n",
            "------------------------------------------------------------------------------------------------------------------------------\n",
            "Unique outliers for units_sold : {50000, 100000}\n",
            "------------------------------------------------------------------------------------------------------------------------------\n",
            "Unique outliers for rating : {1.5, 2.0, 2.25, 1.0}\n",
            "------------------------------------------------------------------------------------------------------------------------------\n",
            "Unique outliers for rating_count : {8960, 20744, 11913, 10122, 8971, 12041, 13198, 11408, 7575, 18463, 8609, 17444, 10150, 7596, 10927, 7088, 13488, 11062, 17980, 8904, 7753, 7242, 12880, 18393, 8412, 8029, 13789, 7773, 8164, 14568, 7022, 9330, 9075, 9207, 9337}\n",
            "------------------------------------------------------------------------------------------------------------------------------\n",
            "Unique outliers for rating_five_count : {4487.0, 3598.0, 5274.0, 11548.0, 4640.0, 4130.0, 3624.0, 7337.0, 6060.0, 3502.0, 11184.0, 6325.0, 4150.0, 4663.0, 5946.0, 3906.0, 4166.0, 5065.0, 4299.0, 6862.0, 5077.0, 4182.0, 5723.0, 8290.0, 5479.0, 3689.0, 7530.0, 5355.0, 3566.0, 4974.0, 6769.0, 4468.0, 4220.0}\n",
            "------------------------------------------------------------------------------------------------------------------------------\n",
            "Unique outliers for rating_four_count : {2562.0, 1411.0, 1795.0, 2952.0, 1546.0, 2701.0, 2836.0, 1941.0, 1430.0, 3351.0, 3483.0, 2331.0, 1821.0, 1406.0, 1955.0, 2342.0, 2091.0, 1964.0, 1456.0, 3191.0, 4152.0, 1850.0, 3006.0, 1860.0, 1733.0, 3404.0, 1869.0, 2647.0, 1502.0, 1510.0, 1514.0, 1389.0, 2418.0, 1523.0, 1396.0, 1394.0, 1527.0, 1403.0, 2430.0}\n",
            "------------------------------------------------------------------------------------------------------------------------------\n",
            "Unique outliers for rating_three_count : {1409.0, 1154.0, 2951.0, 1160.0, 1547.0, 1167.0, 1148.0, 1177.0, 1185.0, 1827.0, 1315.0, 1317.0, 2214.0, 1189.0, 1964.0, 1071.0, 1330.0, 1974.0, 2624.0, 1605.0, 1607.0, 1098.0, 3658.0, 1868.0, 1998.0, 2131.0, 1235.0, 1495.0, 1118.0, 1632.0, 1121.0, 2919.0, 1643.0, 1519.0, 3057.0, 1656.0, 1145.0, 1531.0, 1532.0, 1277.0}\n",
            "------------------------------------------------------------------------------------------------------------------------------\n",
            "Unique outliers for rating_two_count : {1410.0, 644.0, 901.0, 1033.0, 527.0, 655.0, 658.0, 916.0, 1174.0, 793.0, 665.0, 1310.0, 808.0, 553.0, 684.0, 562.0, 695.0, 960.0, 583.0, 1736.0, 842.0, 970.0, 715.0, 592.0, 2003.0, 731.0, 609.0, 623.0, 1136.0, 751.0, 761.0, 890.0}\n",
            "------------------------------------------------------------------------------------------------------------------------------\n",
            "Unique outliers for rating_one_count : {1029.0, 1030.0, 776.0, 782.0, 790.0, 1315.0, 1059.0, 937.0, 1194.0, 944.0, 1329.0, 820.0, 1077.0, 1846.0, 1210.0, 958.0, 1086.0, 1600.0, 960.0, 1736.0, 847.0, 1243.0, 2789.0, 742.0, 1137.0, 882.0, 757.0, 1013.0, 1271.0, 1147.0, 1404.0, 1021.0, 2559.0}\n",
            "------------------------------------------------------------------------------------------------------------------------------\n",
            "Unique outliers for badges_count : {2, 3}\n",
            "------------------------------------------------------------------------------------------------------------------------------\n",
            "Unique outliers for shipping_option_price : {12, 6, 7}\n",
            "------------------------------------------------------------------------------------------------------------------------------\n",
            "Unique outliers for inventory_total : {1, 2, 36, 37, 38, 40, 9, 24, 30}\n",
            "------------------------------------------------------------------------------------------------------------------------------\n",
            "Unique outliers for merchant_rating_count : {330405, 839882, 2174765, 366898, 402743, 295161, 320031}\n",
            "------------------------------------------------------------------------------------------------------------------------------\n",
            "Unique outliers for merchant_rating : {2.9411764705882355, 3.1860465116279064, 3.2985074626865667, 5.0, 3.4094707520891365, 3.034482758620689, 3.4177215189873418, 3.381868131868132, 3.0389610389610384, 2.333333333333333, 3.3382899628252787, 3.1875, 3.367132867132867, 3.25, 3.422535211267605, 3.0}\n",
            "------------------------------------------------------------------------------------------------------------------------------\n",
            "Unique outliers for discount : set()\n",
            "------------------------------------------------------------------------------------------------------------------------------\n"
          ]
        }
      ]
    },
    {
      "cell_type": "markdown",
      "metadata": {
        "id": "TjdfgolLde1d"
      },
      "source": [
        "# Data Validation"
      ],
      "id": "TjdfgolLde1d"
    },
    {
      "cell_type": "code",
      "metadata": {
        "colab": {
          "base_uri": "https://localhost:8080/"
        },
        "id": "swulXnlN54V4",
        "outputId": "20a0f2be-5a09-4ac7-dc19-c02963d06bd6"
      },
      "source": [
        "#test column validity, inventory & profile pic\n",
        "print(sum(data['merchant_has_profile_picture']))\n",
        "print(len(data)-data['merchant_profile_picture'].isnull().sum()) #both have 225 values,see whether can accord to each other\n",
        "print(data[data['merchant_has_profile_picture']==1][data['merchant_profile_picture'].isnull()==0].shape) #combined has 225 values also\n",
        "#profile pic value pass validation\n",
        "data.drop(columns='merchant_profile_picture',inplace=True) #delete pic url\n",
        "\n",
        "data['inventory_total'].unique() #array([50, 40, 36,  1, 30,  2,  9, 24, 37, 38])\n",
        "#there is no 0 inventory inside, inventory value pass validation"
      ],
      "id": "swulXnlN54V4",
      "execution_count": null,
      "outputs": [
        {
          "output_type": "stream",
          "name": "stdout",
          "text": [
            "224\n",
            "224\n",
            "(224, 29)\n"
          ]
        },
        {
          "output_type": "execute_result",
          "data": {
            "text/plain": [
              "array([50, 40, 36,  1, 30,  2,  9, 24, 37, 38])"
            ]
          },
          "metadata": {},
          "execution_count": 22
        }
      ]
    },
    {
      "cell_type": "markdown",
      "metadata": {
        "id": "yFW11r2Ide1e"
      },
      "source": [
        "# Product Color - RGB"
      ],
      "id": "yFW11r2Ide1e"
    },
    {
      "cell_type": "code",
      "metadata": {
        "colab": {
          "base_uri": "https://localhost:8080/"
        },
        "id": "w29NuRrwde1e",
        "outputId": "ff364a42-c08b-4c36-ac36-b4dee166410c"
      },
      "source": [
        "data[\"product_color\"].value_counts() #there are 101 kinds of color, some are so detailed"
      ],
      "id": "w29NuRrwde1e",
      "execution_count": null,
      "outputs": [
        {
          "output_type": "execute_result",
          "data": {
            "text/plain": [
              "black             297\n",
              "white             242\n",
              "yellow            100\n",
              "pink               97\n",
              "blue               95\n",
              "                 ... \n",
              "offblack            1\n",
              "brown & yellow      1\n",
              "rosegold            1\n",
              "lightgrey           1\n",
              "lightgray           1\n",
              "Name: product_color, Length: 100, dtype: int64"
            ]
          },
          "metadata": {},
          "execution_count": 23
        }
      ]
    },
    {
      "cell_type": "code",
      "metadata": {
        "colab": {
          "base_uri": "https://localhost:8080/"
        },
        "id": "oE-7DRWRde1e",
        "outputId": "fc2e2ac9-36be-4111-82aa-beb95e4a67bb"
      },
      "source": [
        "data.loc[data[\"product_color\"].isna(), [\"product_url\"]] #for those na, make up by product_url"
      ],
      "id": "oE-7DRWRde1e",
      "execution_count": null,
      "outputs": [
        {
          "output_type": "execute_result",
          "data": {
            "text/html": [
              "<div>\n",
              "<style scoped>\n",
              "    .dataframe tbody tr th:only-of-type {\n",
              "        vertical-align: middle;\n",
              "    }\n",
              "\n",
              "    .dataframe tbody tr th {\n",
              "        vertical-align: top;\n",
              "    }\n",
              "\n",
              "    .dataframe thead th {\n",
              "        text-align: right;\n",
              "    }\n",
              "</style>\n",
              "<table border=\"1\" class=\"dataframe\">\n",
              "  <thead>\n",
              "    <tr style=\"text-align: right;\">\n",
              "      <th></th>\n",
              "      <th>product_url</th>\n",
              "    </tr>\n",
              "  </thead>\n",
              "  <tbody>\n",
              "    <tr>\n",
              "      <th>26</th>\n",
              "      <td>https://www.wish.com/c/5b5edbae1e222732845e655f</td>\n",
              "    </tr>\n",
              "    <tr>\n",
              "      <th>30</th>\n",
              "      <td>https://www.wish.com/c/5c9d920da94960780239d468</td>\n",
              "    </tr>\n",
              "    <tr>\n",
              "      <th>149</th>\n",
              "      <td>https://www.wish.com/c/58e0f38f9bf29f55183efd0d</td>\n",
              "    </tr>\n",
              "    <tr>\n",
              "      <th>216</th>\n",
              "      <td>https://www.wish.com/c/573db9316b335c34ca0513b8</td>\n",
              "    </tr>\n",
              "    <tr>\n",
              "      <th>284</th>\n",
              "      <td>https://www.wish.com/c/5c935aa8778e8274b0bdcead</td>\n",
              "    </tr>\n",
              "    <tr>\n",
              "      <th>460</th>\n",
              "      <td>https://www.wish.com/c/5e70ba09e3d51e1002f7cf8e</td>\n",
              "    </tr>\n",
              "    <tr>\n",
              "      <th>500</th>\n",
              "      <td>https://www.wish.com/c/569de6363e68eb0d85e0cded</td>\n",
              "    </tr>\n",
              "    <tr>\n",
              "      <th>547</th>\n",
              "      <td>https://www.wish.com/c/56f640b461d6cf68cb5c5d83</td>\n",
              "    </tr>\n",
              "    <tr>\n",
              "      <th>585</th>\n",
              "      <td>https://www.wish.com/c/59636dbdc657d57012e8b3f3</td>\n",
              "    </tr>\n",
              "    <tr>\n",
              "      <th>587</th>\n",
              "      <td>https://www.wish.com/c/5ac302716931da0d71398f53</td>\n",
              "    </tr>\n",
              "    <tr>\n",
              "      <th>636</th>\n",
              "      <td>https://www.wish.com/c/5e7e0c35e27371898f419f5d</td>\n",
              "    </tr>\n",
              "    <tr>\n",
              "      <th>641</th>\n",
              "      <td>https://www.wish.com/c/5ce69880afab7162455321fe</td>\n",
              "    </tr>\n",
              "    <tr>\n",
              "      <th>642</th>\n",
              "      <td>https://www.wish.com/c/5926a32e5b3cde33d7993689</td>\n",
              "    </tr>\n",
              "    <tr>\n",
              "      <th>663</th>\n",
              "      <td>https://www.wish.com/c/594b7307a6623669348a92d1</td>\n",
              "    </tr>\n",
              "    <tr>\n",
              "      <th>692</th>\n",
              "      <td>https://www.wish.com/c/55a3818f65bfcb406995a2a5</td>\n",
              "    </tr>\n",
              "    <tr>\n",
              "      <th>709</th>\n",
              "      <td>https://www.wish.com/c/5def361cdcbcd1028120322d</td>\n",
              "    </tr>\n",
              "    <tr>\n",
              "      <th>731</th>\n",
              "      <td>https://www.wish.com/c/55acbdf8ed44704872df93e2</td>\n",
              "    </tr>\n",
              "    <tr>\n",
              "      <th>841</th>\n",
              "      <td>https://www.wish.com/c/5957163634bd9170cd0f7502</td>\n",
              "    </tr>\n",
              "    <tr>\n",
              "      <th>853</th>\n",
              "      <td>https://www.wish.com/c/5c944cf5b82fb711ad500ec2</td>\n",
              "    </tr>\n",
              "    <tr>\n",
              "      <th>880</th>\n",
              "      <td>https://www.wish.com/c/5cdd1c445632da70960b4b9a</td>\n",
              "    </tr>\n",
              "    <tr>\n",
              "      <th>971</th>\n",
              "      <td>https://www.wish.com/c/5ee8d64229e09b123f9e9aa7</td>\n",
              "    </tr>\n",
              "    <tr>\n",
              "      <th>1016</th>\n",
              "      <td>https://www.wish.com/c/5ea7cdb941b27544b4f4694c</td>\n",
              "    </tr>\n",
              "    <tr>\n",
              "      <th>1018</th>\n",
              "      <td>https://www.wish.com/c/567cb0925ff12c4829f07dfb</td>\n",
              "    </tr>\n",
              "    <tr>\n",
              "      <th>1025</th>\n",
              "      <td>https://www.wish.com/c/5ebb6a3db1e97c2d2d60101f</td>\n",
              "    </tr>\n",
              "    <tr>\n",
              "      <th>1032</th>\n",
              "      <td>https://www.wish.com/c/5ee8d64229e09b123f9e9aa7</td>\n",
              "    </tr>\n",
              "    <tr>\n",
              "      <th>1036</th>\n",
              "      <td>https://www.wish.com/c/58aae24ddd127b534be35ae8</td>\n",
              "    </tr>\n",
              "    <tr>\n",
              "      <th>1061</th>\n",
              "      <td>https://www.wish.com/c/588c54fb6661e84246a8aa71</td>\n",
              "    </tr>\n",
              "    <tr>\n",
              "      <th>1096</th>\n",
              "      <td>https://www.wish.com/c/5cf10d573818e44a8e42f255</td>\n",
              "    </tr>\n",
              "    <tr>\n",
              "      <th>1101</th>\n",
              "      <td>https://www.wish.com/c/5abc519e3c1dc61e44e0667f</td>\n",
              "    </tr>\n",
              "    <tr>\n",
              "      <th>1108</th>\n",
              "      <td>https://www.wish.com/c/5bce9924df97d42c05eef81e</td>\n",
              "    </tr>\n",
              "    <tr>\n",
              "      <th>1112</th>\n",
              "      <td>https://www.wish.com/c/5ef2c54482e1e6221ffc7de9</td>\n",
              "    </tr>\n",
              "    <tr>\n",
              "      <th>1114</th>\n",
              "      <td>https://www.wish.com/c/5cda71c65ea3126b96be1ab9</td>\n",
              "    </tr>\n",
              "    <tr>\n",
              "      <th>1185</th>\n",
              "      <td>https://www.wish.com/c/5aec5aa5e08184220e174919</td>\n",
              "    </tr>\n",
              "    <tr>\n",
              "      <th>1192</th>\n",
              "      <td>https://www.wish.com/c/5f0e6c204e43471f765df4f0</td>\n",
              "    </tr>\n",
              "    <tr>\n",
              "      <th>1341</th>\n",
              "      <td>https://www.wish.com/c/5ebe5359c88200382515760f</td>\n",
              "    </tr>\n",
              "    <tr>\n",
              "      <th>1371</th>\n",
              "      <td>https://www.wish.com/c/5e663f65b12772eb50bcf938</td>\n",
              "    </tr>\n",
              "    <tr>\n",
              "      <th>1466</th>\n",
              "      <td>https://www.wish.com/c/58df3eb809730e54ddd932ca</td>\n",
              "    </tr>\n",
              "    <tr>\n",
              "      <th>1469</th>\n",
              "      <td>https://www.wish.com/c/5ed5f7ccdfed1b4b1ac785c7</td>\n",
              "    </tr>\n",
              "    <tr>\n",
              "      <th>1473</th>\n",
              "      <td>https://www.wish.com/c/5ed34320dd296c304cb25970</td>\n",
              "    </tr>\n",
              "    <tr>\n",
              "      <th>1507</th>\n",
              "      <td>https://www.wish.com/c/5d6a0d55976cd02993e43250</td>\n",
              "    </tr>\n",
              "  </tbody>\n",
              "</table>\n",
              "</div>"
            ],
            "text/plain": [
              "                                          product_url\n",
              "26    https://www.wish.com/c/5b5edbae1e222732845e655f\n",
              "30    https://www.wish.com/c/5c9d920da94960780239d468\n",
              "149   https://www.wish.com/c/58e0f38f9bf29f55183efd0d\n",
              "216   https://www.wish.com/c/573db9316b335c34ca0513b8\n",
              "284   https://www.wish.com/c/5c935aa8778e8274b0bdcead\n",
              "460   https://www.wish.com/c/5e70ba09e3d51e1002f7cf8e\n",
              "500   https://www.wish.com/c/569de6363e68eb0d85e0cded\n",
              "547   https://www.wish.com/c/56f640b461d6cf68cb5c5d83\n",
              "585   https://www.wish.com/c/59636dbdc657d57012e8b3f3\n",
              "587   https://www.wish.com/c/5ac302716931da0d71398f53\n",
              "636   https://www.wish.com/c/5e7e0c35e27371898f419f5d\n",
              "641   https://www.wish.com/c/5ce69880afab7162455321fe\n",
              "642   https://www.wish.com/c/5926a32e5b3cde33d7993689\n",
              "663   https://www.wish.com/c/594b7307a6623669348a92d1\n",
              "692   https://www.wish.com/c/55a3818f65bfcb406995a2a5\n",
              "709   https://www.wish.com/c/5def361cdcbcd1028120322d\n",
              "731   https://www.wish.com/c/55acbdf8ed44704872df93e2\n",
              "841   https://www.wish.com/c/5957163634bd9170cd0f7502\n",
              "853   https://www.wish.com/c/5c944cf5b82fb711ad500ec2\n",
              "880   https://www.wish.com/c/5cdd1c445632da70960b4b9a\n",
              "971   https://www.wish.com/c/5ee8d64229e09b123f9e9aa7\n",
              "1016  https://www.wish.com/c/5ea7cdb941b27544b4f4694c\n",
              "1018  https://www.wish.com/c/567cb0925ff12c4829f07dfb\n",
              "1025  https://www.wish.com/c/5ebb6a3db1e97c2d2d60101f\n",
              "1032  https://www.wish.com/c/5ee8d64229e09b123f9e9aa7\n",
              "1036  https://www.wish.com/c/58aae24ddd127b534be35ae8\n",
              "1061  https://www.wish.com/c/588c54fb6661e84246a8aa71\n",
              "1096  https://www.wish.com/c/5cf10d573818e44a8e42f255\n",
              "1101  https://www.wish.com/c/5abc519e3c1dc61e44e0667f\n",
              "1108  https://www.wish.com/c/5bce9924df97d42c05eef81e\n",
              "1112  https://www.wish.com/c/5ef2c54482e1e6221ffc7de9\n",
              "1114  https://www.wish.com/c/5cda71c65ea3126b96be1ab9\n",
              "1185  https://www.wish.com/c/5aec5aa5e08184220e174919\n",
              "1192  https://www.wish.com/c/5f0e6c204e43471f765df4f0\n",
              "1341  https://www.wish.com/c/5ebe5359c88200382515760f\n",
              "1371  https://www.wish.com/c/5e663f65b12772eb50bcf938\n",
              "1466  https://www.wish.com/c/58df3eb809730e54ddd932ca\n",
              "1469  https://www.wish.com/c/5ed5f7ccdfed1b4b1ac785c7\n",
              "1473  https://www.wish.com/c/5ed34320dd296c304cb25970\n",
              "1507  https://www.wish.com/c/5d6a0d55976cd02993e43250"
            ]
          },
          "metadata": {},
          "execution_count": 24
        }
      ]
    },
    {
      "cell_type": "code",
      "metadata": {
        "id": "virmVveqde1e"
      },
      "source": [
        "missing_color=['white','blue','red','purple','black','white','white','white','blue','black',\n",
        "              np.nan,'black','black','black','white',np.nan,'blue','white','yellow','red',\n",
        "              np.nan,'red','green','blue',np.nan,'blue','green','red','white','yellow',\n",
        "              'black','white','white',np.nan,'white','green',np.nan,np.nan,'blue','blue']\n",
        "assert len(missing_color) == data.loc[data[\"product_color\"].isna(),:].shape[0], f\"There are missing colors, {len(missing_color)}\"\n",
        "data.loc[data[\"product_color\"].isna(), [\"product_color\"]] = missing_color\n",
        "data.loc[data[\"product_color\"] == \"multicolor\", [\"product_color\"]] = np.nan"
      ],
      "id": "virmVveqde1e",
      "execution_count": null,
      "outputs": []
    },
    {
      "cell_type": "code",
      "metadata": {
        "colab": {
          "base_uri": "https://localhost:8080/"
        },
        "id": "MwJiD_3Dde1f",
        "outputId": "88ed6ee3-2e2a-4802-dd34-02498fc9232b"
      },
      "source": [
        "data[\"product_color\"].isna().sum()"
      ],
      "id": "MwJiD_3Dde1f",
      "execution_count": null,
      "outputs": [
        {
          "output_type": "execute_result",
          "data": {
            "text/plain": [
              "27"
            ]
          },
          "metadata": {},
          "execution_count": 26
        }
      ]
    },
    {
      "cell_type": "code",
      "metadata": {
        "id": "7SpLoLEhde1f"
      },
      "source": [
        "color_mapping = {\n",
        "    \"coffee\": \"#381E07\",\n",
        "    \"floral\": \"#E4A593\",\n",
        "    \"rose\": \"pink\",\n",
        "    \"leopard\": \"#F2D24A\",\n",
        "    \"leopardprint\": \"#F2D24A\",\n",
        "    \"camouflage\": \"green\",\n",
        "    \"army\": \"green\",\n",
        "    \"camel\": \"#C19A6B\",\n",
        "    \"wine\": \"#940F22\",\n",
        "    \"apricot\": \"#F3C8AB\",\n",
        "    \"burgundy\": \"#7D2F3D\",\n",
        "    \"jasper\": \"#D0393C\",\n",
        "    \"claret\": \"#940F22\",\n",
        "    \"rainbow\": \"white\",\n",
        "    \"star\": \"yellow\",\n",
        "    \"nude\": \"pink\"\n",
        "}\n",
        "#sioe.cn/yingyong/yanse-rgb-16/"
      ],
      "id": "7SpLoLEhde1f",
      "execution_count": null,
      "outputs": []
    },
    {
      "cell_type": "code",
      "metadata": {
        "id": "yXgtFCQyde1f"
      },
      "source": [
        "def get_rgb(color):\n",
        "    \"\"\" \n",
        "    Returns the rgb vector if the color exists on matplotlib. \n",
        "    This function is a bit messy with the nested try except statements, but performance is not critical \n",
        "    and it works for now, but I should clean it later \"\"\"\n",
        "    \n",
        "    if color in color_mapping.keys():\n",
        "        return matplotlib.colors.to_rgb(color_mapping[color])\n",
        "\n",
        "    try:\n",
        "        return matplotlib.colors.to_rgb(color)\n",
        "    except:\n",
        "        base_colors = [\"blue\", \"green\", \"red\", \"white\", \"black\", \"gold\", \"yellow\", \"pink\", \"purple\", \"orange\", \"grey\", \"khaki\"]\n",
        "        simplified_color = [c for c in base_colors if c in color]\n",
        "        try:\n",
        "            return matplotlib.colors.to_rgb(simplified_color[0])\n",
        "        except:\n",
        "            return np.nan\n",
        "        \n",
        "rgb_colors = data.loc[~data[\"product_color\"].isna(), \"product_color\"].apply(get_rgb)"
      ],
      "id": "yXgtFCQyde1f",
      "execution_count": null,
      "outputs": []
    },
    {
      "cell_type": "code",
      "metadata": {
        "colab": {
          "base_uri": "https://localhost:8080/"
        },
        "id": "OxiTCBtode1f",
        "outputId": "bc3179eb-1b37-405c-9efe-d9af1a1c0dd8"
      },
      "source": [
        "rgb_colors"
      ],
      "id": "OxiTCBtode1f",
      "execution_count": null,
      "outputs": [
        {
          "output_type": "execute_result",
          "data": {
            "text/plain": [
              "0                                         (1.0, 1.0, 1.0)\n",
              "1                          (0.0, 0.5019607843137255, 0.0)\n",
              "2       (0.9490196078431372, 0.8235294117647058, 0.290...\n",
              "3                                         (0.0, 0.0, 0.0)\n",
              "4                                         (1.0, 1.0, 0.0)\n",
              "                              ...                        \n",
              "1568                                      (0.0, 0.0, 1.0)\n",
              "1569    (0.6784313725490196, 0.8470588235294118, 0.901...\n",
              "1570                                      (1.0, 1.0, 1.0)\n",
              "1571                                      (1.0, 1.0, 1.0)\n",
              "1572                                      (1.0, 0.0, 0.0)\n",
              "Name: product_color, Length: 1499, dtype: object"
            ]
          },
          "metadata": {},
          "execution_count": 29
        }
      ]
    },
    {
      "cell_type": "code",
      "metadata": {
        "colab": {
          "base_uri": "https://localhost:8080/"
        },
        "id": "yTdlDXyOde1f",
        "outputId": "78f1ab96-ffef-4b05-f2d4-98714e3b439d"
      },
      "source": [
        "matplotlib.colors.to_rgb('#CC00FF') #255,192,203"
      ],
      "id": "yTdlDXyOde1f",
      "execution_count": null,
      "outputs": [
        {
          "output_type": "execute_result",
          "data": {
            "text/plain": [
              "(0.8, 0.0, 1.0)"
            ]
          },
          "metadata": {},
          "execution_count": 30
        }
      ]
    },
    {
      "cell_type": "code",
      "metadata": {
        "id": "PUHpk90Dde1f"
      },
      "source": [
        "rgb = [{\"r\": r[0], \"g\": r[1], \"b\": r[2]} for r in rgb_colors]\n",
        "rgb_dict = pd.DataFrame(rgb, index=rgb_colors.index)\n",
        "data[\"color_r\"] = rgb_dict[\"r\"]\n",
        "data[\"color_g\"] = rgb_dict[\"g\"]\n",
        "data[\"color_b\"] = rgb_dict[\"b\"]\n",
        "\n",
        "# Fill the missing values with the mean of the column\n",
        "data[\"color_r\"].fillna(data[\"color_r\"].mean(), inplace=True)\n",
        "data[\"color_g\"].fillna(data[\"color_g\"].mean(), inplace=True)\n",
        "data[\"color_b\"].fillna(data[\"color_b\"].mean(), inplace=True)\n",
        "\n",
        "# Drop the useless columns\n",
        "data.drop([\"product_color\", \"product_url\", \"product_picture\"], axis=1, inplace=True)"
      ],
      "id": "PUHpk90Dde1f",
      "execution_count": null,
      "outputs": []
    },
    {
      "cell_type": "code",
      "metadata": {
        "colab": {
          "base_uri": "https://localhost:8080/"
        },
        "id": "qlU2kzI8de1g",
        "outputId": "84a0e53d-ae6f-41d7-df0c-c725f3eae8b0"
      },
      "source": [
        "data.head()"
      ],
      "id": "qlU2kzI8de1g",
      "execution_count": null,
      "outputs": [
        {
          "output_type": "execute_result",
          "data": {
            "text/html": [
              "<div>\n",
              "<style scoped>\n",
              "    .dataframe tbody tr th:only-of-type {\n",
              "        vertical-align: middle;\n",
              "    }\n",
              "\n",
              "    .dataframe tbody tr th {\n",
              "        vertical-align: top;\n",
              "    }\n",
              "\n",
              "    .dataframe thead th {\n",
              "        text-align: right;\n",
              "    }\n",
              "</style>\n",
              "<table border=\"1\" class=\"dataframe\">\n",
              "  <thead>\n",
              "    <tr style=\"text-align: right;\">\n",
              "      <th></th>\n",
              "      <th>title</th>\n",
              "      <th>title_orig</th>\n",
              "      <th>price</th>\n",
              "      <th>units_sold</th>\n",
              "      <th>uses_ad_boosts</th>\n",
              "      <th>rating</th>\n",
              "      <th>rating_count</th>\n",
              "      <th>rating_five_count</th>\n",
              "      <th>rating_four_count</th>\n",
              "      <th>rating_three_count</th>\n",
              "      <th>rating_two_count</th>\n",
              "      <th>rating_one_count</th>\n",
              "      <th>badges_count</th>\n",
              "      <th>badge_local_product</th>\n",
              "      <th>badge_product_quality</th>\n",
              "      <th>badge_fast_shipping</th>\n",
              "      <th>tags</th>\n",
              "      <th>shipping_option_price</th>\n",
              "      <th>shipping_is_express</th>\n",
              "      <th>inventory_total</th>\n",
              "      <th>has_urgency_banner</th>\n",
              "      <th>merchant_rating_count</th>\n",
              "      <th>merchant_rating</th>\n",
              "      <th>merchant_has_profile_picture</th>\n",
              "      <th>discount</th>\n",
              "      <th>color_r</th>\n",
              "      <th>color_g</th>\n",
              "      <th>color_b</th>\n",
              "    </tr>\n",
              "  </thead>\n",
              "  <tbody>\n",
              "    <tr>\n",
              "      <th>0</th>\n",
              "      <td>2020 Summer Vintage Flamingo Print  Pajamas Se...</td>\n",
              "      <td>2020 Summer Vintage Flamingo Print  Pajamas Se...</td>\n",
              "      <td>16.00</td>\n",
              "      <td>100</td>\n",
              "      <td>0</td>\n",
              "      <td>3.76</td>\n",
              "      <td>54</td>\n",
              "      <td>26.0</td>\n",
              "      <td>8.0</td>\n",
              "      <td>10.0</td>\n",
              "      <td>1.0</td>\n",
              "      <td>9.0</td>\n",
              "      <td>0</td>\n",
              "      <td>0</td>\n",
              "      <td>0</td>\n",
              "      <td>0</td>\n",
              "      <td>Summer,Fashion,womenunderwearsuit,printedpajam...</td>\n",
              "      <td>4</td>\n",
              "      <td>0</td>\n",
              "      <td>50</td>\n",
              "      <td>1.0</td>\n",
              "      <td>568</td>\n",
              "      <td>4.128521</td>\n",
              "      <td>0</td>\n",
              "      <td>-14.285714</td>\n",
              "      <td>1.00000</td>\n",
              "      <td>1.000000</td>\n",
              "      <td>1.000000</td>\n",
              "    </tr>\n",
              "    <tr>\n",
              "      <th>1</th>\n",
              "      <td>SSHOUSE Summer Casual Sleeveless Soirée Party ...</td>\n",
              "      <td>Women's Casual Summer Sleeveless Sexy Mini Dress</td>\n",
              "      <td>8.00</td>\n",
              "      <td>20000</td>\n",
              "      <td>1</td>\n",
              "      <td>3.45</td>\n",
              "      <td>6135</td>\n",
              "      <td>2269.0</td>\n",
              "      <td>1027.0</td>\n",
              "      <td>1118.0</td>\n",
              "      <td>644.0</td>\n",
              "      <td>1077.0</td>\n",
              "      <td>0</td>\n",
              "      <td>0</td>\n",
              "      <td>0</td>\n",
              "      <td>0</td>\n",
              "      <td>Mini,womens dresses,Summer,Patchwork,fashion d...</td>\n",
              "      <td>2</td>\n",
              "      <td>0</td>\n",
              "      <td>50</td>\n",
              "      <td>1.0</td>\n",
              "      <td>17752</td>\n",
              "      <td>3.899673</td>\n",
              "      <td>0</td>\n",
              "      <td>63.636364</td>\n",
              "      <td>0.00000</td>\n",
              "      <td>0.501961</td>\n",
              "      <td>0.000000</td>\n",
              "    </tr>\n",
              "    <tr>\n",
              "      <th>2</th>\n",
              "      <td>2020 Nouvelle Arrivée Femmes Printemps et Été ...</td>\n",
              "      <td>2020 New Arrival Women Spring and Summer Beach...</td>\n",
              "      <td>8.00</td>\n",
              "      <td>100</td>\n",
              "      <td>0</td>\n",
              "      <td>3.57</td>\n",
              "      <td>14</td>\n",
              "      <td>5.0</td>\n",
              "      <td>4.0</td>\n",
              "      <td>2.0</td>\n",
              "      <td>0.0</td>\n",
              "      <td>3.0</td>\n",
              "      <td>0</td>\n",
              "      <td>0</td>\n",
              "      <td>0</td>\n",
              "      <td>0</td>\n",
              "      <td>Summer,cardigan,women beachwear,chiffon,Sexy w...</td>\n",
              "      <td>3</td>\n",
              "      <td>0</td>\n",
              "      <td>50</td>\n",
              "      <td>1.0</td>\n",
              "      <td>295</td>\n",
              "      <td>3.989831</td>\n",
              "      <td>0</td>\n",
              "      <td>81.395349</td>\n",
              "      <td>0.94902</td>\n",
              "      <td>0.823529</td>\n",
              "      <td>0.290196</td>\n",
              "    </tr>\n",
              "    <tr>\n",
              "      <th>3</th>\n",
              "      <td>Hot Summer Cool T-shirt pour les femmes Mode T...</td>\n",
              "      <td>Hot Summer Cool T Shirt for Women Fashion Tops...</td>\n",
              "      <td>8.00</td>\n",
              "      <td>5000</td>\n",
              "      <td>1</td>\n",
              "      <td>4.03</td>\n",
              "      <td>579</td>\n",
              "      <td>295.0</td>\n",
              "      <td>119.0</td>\n",
              "      <td>87.0</td>\n",
              "      <td>42.0</td>\n",
              "      <td>36.0</td>\n",
              "      <td>0</td>\n",
              "      <td>0</td>\n",
              "      <td>0</td>\n",
              "      <td>0</td>\n",
              "      <td>Summer,Shorts,Cotton,Cotton T Shirt,Sleeve,pri...</td>\n",
              "      <td>2</td>\n",
              "      <td>0</td>\n",
              "      <td>50</td>\n",
              "      <td>0.0</td>\n",
              "      <td>23832</td>\n",
              "      <td>4.020435</td>\n",
              "      <td>0</td>\n",
              "      <td>0.000000</td>\n",
              "      <td>0.00000</td>\n",
              "      <td>0.000000</td>\n",
              "      <td>0.000000</td>\n",
              "    </tr>\n",
              "    <tr>\n",
              "      <th>4</th>\n",
              "      <td>Femmes Shorts d'été à lacets taille élastique ...</td>\n",
              "      <td>Women Summer Shorts Lace Up Elastic Waistband ...</td>\n",
              "      <td>2.72</td>\n",
              "      <td>100</td>\n",
              "      <td>1</td>\n",
              "      <td>3.10</td>\n",
              "      <td>20</td>\n",
              "      <td>6.0</td>\n",
              "      <td>4.0</td>\n",
              "      <td>2.0</td>\n",
              "      <td>2.0</td>\n",
              "      <td>6.0</td>\n",
              "      <td>0</td>\n",
              "      <td>0</td>\n",
              "      <td>0</td>\n",
              "      <td>0</td>\n",
              "      <td>Summer,Plus Size,Lace,Casual pants,Bottom,pant...</td>\n",
              "      <td>1</td>\n",
              "      <td>0</td>\n",
              "      <td>50</td>\n",
              "      <td>1.0</td>\n",
              "      <td>14482</td>\n",
              "      <td>4.001588</td>\n",
              "      <td>0</td>\n",
              "      <td>9.333333</td>\n",
              "      <td>1.00000</td>\n",
              "      <td>1.000000</td>\n",
              "      <td>0.000000</td>\n",
              "    </tr>\n",
              "  </tbody>\n",
              "</table>\n",
              "</div>"
            ],
            "text/plain": [
              "                                               title  ...   color_b\n",
              "0  2020 Summer Vintage Flamingo Print  Pajamas Se...  ...  1.000000\n",
              "1  SSHOUSE Summer Casual Sleeveless Soirée Party ...  ...  0.000000\n",
              "2  2020 Nouvelle Arrivée Femmes Printemps et Été ...  ...  0.290196\n",
              "3  Hot Summer Cool T-shirt pour les femmes Mode T...  ...  0.000000\n",
              "4  Femmes Shorts d'été à lacets taille élastique ...  ...  0.000000\n",
              "\n",
              "[5 rows x 28 columns]"
            ]
          },
          "metadata": {},
          "execution_count": 32
        }
      ]
    },
    {
      "cell_type": "markdown",
      "metadata": {
        "id": "wDNFagUtde1g"
      },
      "source": [
        "# Text Analytics: title, tile_orig, tags"
      ],
      "id": "wDNFagUtde1g"
    },
    {
      "cell_type": "code",
      "metadata": {
        "id": "wJloc9xsde1g"
      },
      "source": [
        "#new feature 1: the number of tags for each product\n",
        "data[\"n_tags\"] = data[\"tags\"].apply(lambda x: len(x.split(\",\")))"
      ],
      "id": "wJloc9xsde1g",
      "execution_count": null,
      "outputs": []
    },
    {
      "cell_type": "code",
      "metadata": {
        "id": "QVIa2mGZde1g"
      },
      "source": [
        "#new feature 2: whether title is localised or not\n",
        "def is_localised(title_french,origi_eng):\n",
        "    if title_french == origi_eng:\n",
        "        return 0\n",
        "    else:\n",
        "        return 1\n",
        "    \n",
        "data['title_localised'] = data.apply(lambda x: is_localised(x.title, x.title_orig), axis = 1)"
      ],
      "id": "QVIa2mGZde1g",
      "execution_count": null,
      "outputs": []
    },
    {
      "cell_type": "code",
      "metadata": {
        "id": "Tjbj8mOFde1g"
      },
      "source": [
        "# data[[\"n_tags\", 'title_localised']]"
      ],
      "id": "Tjbj8mOFde1g",
      "execution_count": null,
      "outputs": []
    },
    {
      "cell_type": "markdown",
      "metadata": {
        "id": "cwBpoNXAde1g"
      },
      "source": [
        "# Information Extraction: types of wear"
      ],
      "id": "cwBpoNXAde1g"
    },
    {
      "cell_type": "code",
      "metadata": {
        "id": "3Bslu_Ngde1g"
      },
      "source": [
        "data['comb_title'] = data['title_orig'] + data['tags']"
      ],
      "id": "3Bslu_Ngde1g",
      "execution_count": null,
      "outputs": []
    },
    {
      "cell_type": "code",
      "metadata": {
        "colab": {
          "base_uri": "https://localhost:8080/"
        },
        "id": "AtAiF-EYde1g",
        "outputId": "a2f24ce7-0c0a-4d1e-ed63-d5bd97c04f45"
      },
      "source": [
        "nltk.download('punkt')\n",
        "nltk.download('wordnet')"
      ],
      "id": "AtAiF-EYde1g",
      "execution_count": null,
      "outputs": [
        {
          "output_type": "stream",
          "name": "stdout",
          "text": [
            "[nltk_data] Downloading package punkt to /root/nltk_data...\n",
            "[nltk_data]   Unzipping tokenizers/punkt.zip.\n",
            "[nltk_data] Downloading package wordnet to /root/nltk_data...\n",
            "[nltk_data]   Unzipping corpora/wordnet.zip.\n"
          ]
        },
        {
          "output_type": "execute_result",
          "data": {
            "text/plain": [
              "True"
            ]
          },
          "metadata": {},
          "execution_count": 40
        }
      ]
    },
    {
      "cell_type": "code",
      "metadata": {
        "colab": {
          "base_uri": "https://localhost:8080/"
        },
        "id": "qfZ9_C8wde1h",
        "outputId": "d1bba2ae-a596-4b19-f692-55b3a76ea9fc"
      },
      "source": [
        "nltk.download('universal_tagset')\n",
        "nltk.download('averaged_perceptron_tagger')\n",
        "# The input for POS tagger needs to be tokenized first.\n",
        "\n",
        "lemma_list = []\n",
        "\n",
        "# A more simplified tagset - universal\n",
        "#https://universaldependencies.org/u/pos/all.html\n",
        "for each_list in data.comb_title:\n",
        "  sent_pos2 = pos_tag(word_tokenize(each_list), tagset='universal')\n",
        "  lemma_list.append(sent_pos2)\n",
        "  \n",
        "#lemma_list[0]"
      ],
      "id": "qfZ9_C8wde1h",
      "execution_count": null,
      "outputs": [
        {
          "output_type": "stream",
          "name": "stdout",
          "text": [
            "[nltk_data] Downloading package universal_tagset to /root/nltk_data...\n",
            "[nltk_data]   Unzipping taggers/universal_tagset.zip.\n",
            "[nltk_data] Downloading package averaged_perceptron_tagger to\n",
            "[nltk_data]     /root/nltk_data...\n",
            "[nltk_data]   Unzipping taggers/averaged_perceptron_tagger.zip.\n"
          ]
        }
      ]
    },
    {
      "cell_type": "code",
      "metadata": {
        "id": "TSJR7RKnde1h"
      },
      "source": [
        "#1. Get the lemmas of the content words in the text\n",
        "wnl = nltk.WordNetLemmatizer()\n",
        "\n",
        "lemmas_list_noun = []\n",
        "each_list_token_noun = []\n",
        "for each_list_token in lemma_list:\n",
        "  for each_token in each_list_token:\n",
        "    if each_token[1] == 'NOUN':\n",
        "        each_list_token_noun.append(wnl.lemmatize(each_token[0].lower()))\n",
        "  lemmas_list_noun.append(each_list_token_noun)\n",
        "  each_list_token_noun = []"
      ],
      "id": "TSJR7RKnde1h",
      "execution_count": null,
      "outputs": []
    },
    {
      "cell_type": "code",
      "metadata": {
        "colab": {
          "base_uri": "https://localhost:8080/"
        },
        "id": "3wdd1Y0Yde1h",
        "outputId": "49c8658a-ce4a-434f-fe55-70b34da4787d"
      },
      "source": [
        "#2. Get document frequency : turn the lists into sets: set(list_1) , the FreqDist\n",
        "lemmas_list_set = []\n",
        "for each_list in lemmas_list_noun:\n",
        "  new_set = set(each_list)\n",
        "  lemmas_list_set.append(new_set)\n",
        "len(lemmas_list_set)"
      ],
      "id": "3wdd1Y0Yde1h",
      "execution_count": null,
      "outputs": [
        {
          "output_type": "execute_result",
          "data": {
            "text/plain": [
              "1526"
            ]
          },
          "metadata": {},
          "execution_count": 43
        }
      ]
    },
    {
      "cell_type": "code",
      "metadata": {
        "id": "70lyK8vyde1h"
      },
      "source": [
        "#3.\tGet the list of 'types of wears' terms from wordnet\n",
        "# To look up a word\n",
        "from nltk.corpus import wordnet as wn"
      ],
      "id": "70lyK8vyde1h",
      "execution_count": null,
      "outputs": []
    },
    {
      "cell_type": "code",
      "metadata": {
        "colab": {
          "base_uri": "https://localhost:8080/"
        },
        "id": "pzndRxSFde1i",
        "outputId": "174b6499-c447-4425-8df3-f0ba67b71a88"
      },
      "source": [
        "# Flatten the list of lists for FreqDist; break the docs\n",
        "lemmas_flat = [ c for l in lemmas_list_set for c in l ] \n",
        "fd_lemmas = FreqDist(lemmas_flat)\n",
        "\n",
        "fd_lemmas.most_common(10)"
      ],
      "id": "pzndRxSFde1i",
      "execution_count": null,
      "outputs": [
        {
          "output_type": "execute_result",
          "data": {
            "text/plain": [
              "[('fashion', 1451),\n",
              " ('woman', 1391),\n",
              " ('summer', 1308),\n",
              " ('casual', 903),\n",
              " ('size', 676),\n",
              " ('plus', 603),\n",
              " ('sleeveless', 600),\n",
              " ('dress', 561),\n",
              " ('top', 540),\n",
              " ('short', 537)]"
            ]
          },
          "metadata": {},
          "execution_count": 45
        }
      ]
    },
    {
      "cell_type": "code",
      "metadata": {
        "colab": {
          "base_uri": "https://localhost:8080/"
        },
        "id": "Z0Wj2s8xde1i",
        "outputId": "ff7b35ed-2848-4893-e624-0549e303a876"
      },
      "source": [
        "ss = wn.synsets('wear', pos = wn.NOUN)[1]\n",
        "print(ss.definition())\n",
        "print(ss.examples())"
      ],
      "id": "Z0Wj2s8xde1i",
      "execution_count": null,
      "outputs": [
        {
          "output_type": "stream",
          "name": "stdout",
          "text": [
            "a covering designed to be worn on a person's body\n",
            "[]\n"
          ]
        }
      ]
    },
    {
      "cell_type": "code",
      "metadata": {
        "id": "EzScj_ZGde1k"
      },
      "source": [
        "#get all children and grandchildren words\n",
        "hyps = list(set([w for s in ss.closure(lambda s:s.hyponyms())\n",
        "                        for w in s.lemma_names()]))\n",
        "sorted(hyps)\n",
        "clothes_set = set(hyps)"
      ],
      "id": "EzScj_ZGde1k",
      "execution_count": null,
      "outputs": []
    },
    {
      "cell_type": "code",
      "metadata": {
        "colab": {
          "base_uri": "https://localhost:8080/"
        },
        "id": "NO7Whvnwde1k",
        "outputId": "96f3b7c4-4f6a-42cf-f29b-537ecc9c126b"
      },
      "source": [
        "# Select top 10 frequent tags as tags_list\n",
        "tags_list = []\n",
        "target = 0\n",
        "top_n = 10\n",
        "for each in fd_lemmas:\n",
        "  if each in clothes_set:\n",
        "    tags_list.append(each)\n",
        "    target += 1\n",
        "    if target > top_n:\n",
        "      break\n",
        "print(tags_list)"
      ],
      "id": "NO7Whvnwde1k",
      "execution_count": null,
      "outputs": [
        {
          "output_type": "stream",
          "name": "stdout",
          "text": [
            "['pajama', 'shirt', 'sleepwear', 'top', 'loungewear', 'mini', 'dress', 'swimsuit', 'coat', 'kimono', 'cardigan']\n"
          ]
        }
      ]
    },
    {
      "cell_type": "code",
      "metadata": {
        "id": "OuixIq2gde1k"
      },
      "source": [
        "data['lemmas_list'] = lemmas_list_set\n",
        "tags_list=['loungewear', 'sleepwear', 'top', 'shirt', 'pajama', 'dress', 'mini', 'swimsuit', 'coat', 'cardigan', 'kimono']"
      ],
      "id": "OuixIq2gde1k",
      "execution_count": null,
      "outputs": []
    },
    {
      "cell_type": "code",
      "metadata": {
        "id": "lHS3SbLIde1l"
      },
      "source": [
        "# convert to dummy variable:\n",
        "def is_dummy(data):\n",
        "    if each_tag in data['lemmas_list']:\n",
        "        return 1\n",
        "    else:\n",
        "        return 0\n",
        "for each_tag in tags_list:\n",
        "    data[each_tag] = data.apply(lambda data:is_dummy(data),axis = 1)"
      ],
      "id": "lHS3SbLIde1l",
      "execution_count": null,
      "outputs": []
    },
    {
      "cell_type": "code",
      "metadata": {
        "colab": {
          "base_uri": "https://localhost:8080/"
        },
        "id": "8EV4rUJ4de1l",
        "scrolled": true,
        "outputId": "de320ef6-9f5b-462e-d7e1-1f85ef233cd3"
      },
      "source": [
        "data[tags_list]"
      ],
      "id": "8EV4rUJ4de1l",
      "execution_count": null,
      "outputs": [
        {
          "output_type": "execute_result",
          "data": {
            "text/html": [
              "<div>\n",
              "<style scoped>\n",
              "    .dataframe tbody tr th:only-of-type {\n",
              "        vertical-align: middle;\n",
              "    }\n",
              "\n",
              "    .dataframe tbody tr th {\n",
              "        vertical-align: top;\n",
              "    }\n",
              "\n",
              "    .dataframe thead th {\n",
              "        text-align: right;\n",
              "    }\n",
              "</style>\n",
              "<table border=\"1\" class=\"dataframe\">\n",
              "  <thead>\n",
              "    <tr style=\"text-align: right;\">\n",
              "      <th></th>\n",
              "      <th>loungewear</th>\n",
              "      <th>sleepwear</th>\n",
              "      <th>top</th>\n",
              "      <th>shirt</th>\n",
              "      <th>pajama</th>\n",
              "      <th>dress</th>\n",
              "      <th>mini</th>\n",
              "      <th>swimsuit</th>\n",
              "      <th>coat</th>\n",
              "      <th>cardigan</th>\n",
              "      <th>kimono</th>\n",
              "    </tr>\n",
              "  </thead>\n",
              "  <tbody>\n",
              "    <tr>\n",
              "      <th>0</th>\n",
              "      <td>1</td>\n",
              "      <td>1</td>\n",
              "      <td>1</td>\n",
              "      <td>1</td>\n",
              "      <td>1</td>\n",
              "      <td>0</td>\n",
              "      <td>0</td>\n",
              "      <td>0</td>\n",
              "      <td>0</td>\n",
              "      <td>0</td>\n",
              "      <td>0</td>\n",
              "    </tr>\n",
              "    <tr>\n",
              "      <th>1</th>\n",
              "      <td>0</td>\n",
              "      <td>0</td>\n",
              "      <td>0</td>\n",
              "      <td>0</td>\n",
              "      <td>0</td>\n",
              "      <td>1</td>\n",
              "      <td>1</td>\n",
              "      <td>0</td>\n",
              "      <td>0</td>\n",
              "      <td>0</td>\n",
              "      <td>0</td>\n",
              "    </tr>\n",
              "    <tr>\n",
              "      <th>2</th>\n",
              "      <td>0</td>\n",
              "      <td>0</td>\n",
              "      <td>0</td>\n",
              "      <td>0</td>\n",
              "      <td>0</td>\n",
              "      <td>0</td>\n",
              "      <td>0</td>\n",
              "      <td>1</td>\n",
              "      <td>1</td>\n",
              "      <td>1</td>\n",
              "      <td>1</td>\n",
              "    </tr>\n",
              "    <tr>\n",
              "      <th>3</th>\n",
              "      <td>0</td>\n",
              "      <td>0</td>\n",
              "      <td>1</td>\n",
              "      <td>1</td>\n",
              "      <td>0</td>\n",
              "      <td>0</td>\n",
              "      <td>0</td>\n",
              "      <td>0</td>\n",
              "      <td>0</td>\n",
              "      <td>0</td>\n",
              "      <td>0</td>\n",
              "    </tr>\n",
              "    <tr>\n",
              "      <th>4</th>\n",
              "      <td>0</td>\n",
              "      <td>0</td>\n",
              "      <td>0</td>\n",
              "      <td>0</td>\n",
              "      <td>0</td>\n",
              "      <td>0</td>\n",
              "      <td>0</td>\n",
              "      <td>0</td>\n",
              "      <td>0</td>\n",
              "      <td>0</td>\n",
              "      <td>0</td>\n",
              "    </tr>\n",
              "    <tr>\n",
              "      <th>...</th>\n",
              "      <td>...</td>\n",
              "      <td>...</td>\n",
              "      <td>...</td>\n",
              "      <td>...</td>\n",
              "      <td>...</td>\n",
              "      <td>...</td>\n",
              "      <td>...</td>\n",
              "      <td>...</td>\n",
              "      <td>...</td>\n",
              "      <td>...</td>\n",
              "      <td>...</td>\n",
              "    </tr>\n",
              "    <tr>\n",
              "      <th>1568</th>\n",
              "      <td>0</td>\n",
              "      <td>0</td>\n",
              "      <td>1</td>\n",
              "      <td>1</td>\n",
              "      <td>0</td>\n",
              "      <td>0</td>\n",
              "      <td>0</td>\n",
              "      <td>0</td>\n",
              "      <td>0</td>\n",
              "      <td>0</td>\n",
              "      <td>0</td>\n",
              "    </tr>\n",
              "    <tr>\n",
              "      <th>1569</th>\n",
              "      <td>0</td>\n",
              "      <td>0</td>\n",
              "      <td>0</td>\n",
              "      <td>0</td>\n",
              "      <td>0</td>\n",
              "      <td>0</td>\n",
              "      <td>0</td>\n",
              "      <td>0</td>\n",
              "      <td>0</td>\n",
              "      <td>0</td>\n",
              "      <td>0</td>\n",
              "    </tr>\n",
              "    <tr>\n",
              "      <th>1570</th>\n",
              "      <td>0</td>\n",
              "      <td>0</td>\n",
              "      <td>0</td>\n",
              "      <td>0</td>\n",
              "      <td>0</td>\n",
              "      <td>0</td>\n",
              "      <td>0</td>\n",
              "      <td>0</td>\n",
              "      <td>0</td>\n",
              "      <td>0</td>\n",
              "      <td>0</td>\n",
              "    </tr>\n",
              "    <tr>\n",
              "      <th>1571</th>\n",
              "      <td>0</td>\n",
              "      <td>0</td>\n",
              "      <td>0</td>\n",
              "      <td>0</td>\n",
              "      <td>0</td>\n",
              "      <td>1</td>\n",
              "      <td>0</td>\n",
              "      <td>0</td>\n",
              "      <td>0</td>\n",
              "      <td>0</td>\n",
              "      <td>0</td>\n",
              "    </tr>\n",
              "    <tr>\n",
              "      <th>1572</th>\n",
              "      <td>0</td>\n",
              "      <td>0</td>\n",
              "      <td>0</td>\n",
              "      <td>0</td>\n",
              "      <td>0</td>\n",
              "      <td>0</td>\n",
              "      <td>0</td>\n",
              "      <td>0</td>\n",
              "      <td>0</td>\n",
              "      <td>0</td>\n",
              "      <td>0</td>\n",
              "    </tr>\n",
              "  </tbody>\n",
              "</table>\n",
              "<p>1526 rows × 11 columns</p>\n",
              "</div>"
            ],
            "text/plain": [
              "      loungewear  sleepwear  top  shirt  ...  swimsuit  coat  cardigan  kimono\n",
              "0              1          1    1      1  ...         0     0         0       0\n",
              "1              0          0    0      0  ...         0     0         0       0\n",
              "2              0          0    0      0  ...         1     1         1       1\n",
              "3              0          0    1      1  ...         0     0         0       0\n",
              "4              0          0    0      0  ...         0     0         0       0\n",
              "...          ...        ...  ...    ...  ...       ...   ...       ...     ...\n",
              "1568           0          0    1      1  ...         0     0         0       0\n",
              "1569           0          0    0      0  ...         0     0         0       0\n",
              "1570           0          0    0      0  ...         0     0         0       0\n",
              "1571           0          0    0      0  ...         0     0         0       0\n",
              "1572           0          0    0      0  ...         0     0         0       0\n",
              "\n",
              "[1526 rows x 11 columns]"
            ]
          },
          "metadata": {},
          "execution_count": 51
        }
      ]
    },
    {
      "cell_type": "code",
      "metadata": {
        "id": "4JrtEviode1l"
      },
      "source": [
        "to_drop = ['title', 'title_orig', 'tags', 'lemmas_list','comb_title']\n",
        "data.drop(columns=to_drop,inplace=True)"
      ],
      "id": "4JrtEviode1l",
      "execution_count": null,
      "outputs": []
    },
    {
      "cell_type": "code",
      "metadata": {
        "colab": {
          "base_uri": "https://localhost:8080/"
        },
        "id": "zXfqPDkMde00",
        "outputId": "a1a8b7ac-544c-4814-91c6-a8c4d05d90ce"
      },
      "source": [
        "#Check if our dataframe has null value\n",
        "print(np.any(data.isnull()))\n",
        "#No null values"
      ],
      "id": "zXfqPDkMde00",
      "execution_count": null,
      "outputs": [
        {
          "output_type": "stream",
          "name": "stdout",
          "text": [
            "False\n"
          ]
        }
      ]
    },
    {
      "cell_type": "markdown",
      "metadata": {
        "id": "J5WyQggOde02"
      },
      "source": [
        "# Define product level "
      ],
      "id": "J5WyQggOde02"
    },
    {
      "cell_type": "code",
      "metadata": {
        "id": "IyLY3C5hde02"
      },
      "source": [
        "def level(data) :\n",
        "    if data['units_sold'] <=100:\n",
        "        return 1\n",
        "    elif data['units_sold'] <=1000:\n",
        "        return 2\n",
        "    elif data['units_sold'] <=10000:\n",
        "        return 3\n",
        "    else:\n",
        "        return 4\n",
        "data['level'] = data.apply(lambda data:level(data),axis = 1)"
      ],
      "id": "IyLY3C5hde02",
      "execution_count": null,
      "outputs": []
    },
    {
      "cell_type": "code",
      "metadata": {
        "colab": {
          "base_uri": "https://localhost:8080/"
        },
        "id": "1GsNQp4Ede02",
        "outputId": "42724881-2bb5-490b-f156-37c9aef263cc"
      },
      "source": [
        "data['level'].value_counts()"
      ],
      "id": "1GsNQp4Ede02",
      "execution_count": null,
      "outputs": [
        {
          "output_type": "execute_result",
          "data": {
            "text/plain": [
              "1    605\n",
              "2    403\n",
              "3    392\n",
              "4    126\n",
              "Name: level, dtype: int64"
            ]
          },
          "metadata": {},
          "execution_count": 55
        }
      ]
    },
    {
      "cell_type": "code",
      "metadata": {
        "id": "UM2YFURXde03"
      },
      "source": [
        "data.drop(columns = 'units_sold',inplace = True)"
      ],
      "id": "UM2YFURXde03",
      "execution_count": null,
      "outputs": []
    },
    {
      "cell_type": "markdown",
      "metadata": {
        "id": "NTB7vYcsde1l"
      },
      "source": [
        "# Correlation Analysis"
      ],
      "id": "NTB7vYcsde1l"
    },
    {
      "cell_type": "code",
      "metadata": {
        "id": "T2mBKO2Ode1l",
        "colab": {
          "base_uri": "https://localhost:8080/",
          "height": 913
        },
        "outputId": "c95acbc2-2ee4-4be6-996b-08312b70e902"
      },
      "source": [
        "all_corr = data.corr()\n",
        "\n",
        "plt.figure(figsize = (18, 16))\n",
        "sns.heatmap(all_corr,vmin=all_corr.values.min(), vmax=1,square=True,cmap=\"YlGnBu\", linewidths=0.1, annot=True, annot_kws={\"fontsize\":8},fmt='.2f')  \n",
        "plt.title('Correlation of features')\n",
        "plt.show()"
      ],
      "id": "T2mBKO2Ode1l",
      "execution_count": null,
      "outputs": [
        {
          "output_type": "display_data",
          "data": {
            "image/png": "[encoded data removed]",
            "text/plain": [
              "<Figure size 1296x1152 with 2 Axes>"
            ]
          },
          "metadata": {
            "needs_background": "light"
          }
        }
      ]
    },
    {
      "cell_type": "code",
      "metadata": {
        "colab": {
          "base_uri": "https://localhost:8080/"
        },
        "id": "-b10qyN7de03",
        "outputId": "1e0780c8-cf16-4fe2-a5d4-a28fb3382e6c"
      },
      "source": [
        "#We'll deal with strong correlation between features first,to avoid multicollinearity. The threshold is set at 0.8\n",
        "\n",
        "#From the heatmap, features related to rating have correaltion coefficients almost reaching 0.9\n",
        "#Calculate vif to validate and see how many of them should be kept\n",
        "vif_rating = pd.DataFrame()\n",
        "vif_rating['feature'] = ['rating_count','rating_three_count','rating_four_count','rating_five_count','rating_two_count','rating_one_count']\n",
        "for i in range(5):\n",
        "    rating_colname = vif_rating['feature']\n",
        "    rating_col = data[rating_colname[:i+2]]\n",
        "    print('vif of',i+2,'features:',[vif(rating_col.values,j)for j in range(i+2)])\n",
        "    \n",
        "# We can see that even if only 2 features are kept, vif value is still large. So we can only pick one\n",
        "# Because the weighted average of 'ragting_one/two/three/four/five_count' columns is already represent by 'rating' column, we can just keep rating_count\n",
        "rating_col_drop = ['rating_three_count','rating_four_count','rating_five_count','rating_two_count','rating_one_count']\n",
        "data.drop(columns = rating_col_drop,inplace = True)\n",
        "data.shape"
      ],
      "id": "-b10qyN7de03",
      "execution_count": null,
      "outputs": [
        {
          "output_type": "stream",
          "name": "stdout",
          "text": [
            "vif of 2 features: [32.14399007007624, 32.14399007007624]\n",
            "vif of 3 features: [186.7674980264765, 32.25382559667377, 147.62043814915677]\n",
            "vif of 4 features: [1022.9620750573733, 245.5770907740249, 151.5893171498255, 280.8164461738293]\n",
            "vif of 5 features: [4185.347691127465, 269.69013141608747, 370.57618985944896, 1070.7250536743275, 379.9705393702612]\n",
            "vif of 6 features: [inf, inf, inf, inf, inf, inf]\n"
          ]
        },
        {
          "output_type": "execute_result",
          "data": {
            "text/plain": [
              "(1526, 33)"
            ]
          },
          "metadata": {},
          "execution_count": 58
        }
      ]
    },
    {
      "cell_type": "code",
      "metadata": {
        "colab": {
          "base_uri": "https://localhost:8080/"
        },
        "id": "8v_kAGb7jIQZ",
        "scrolled": true,
        "outputId": "3f1b2cbd-9983-4f13-813c-7b00dafc2f74"
      },
      "source": [
        "#Correlation of shipping_option_price and price, badges_count and badges_product_quality,cardigan and kimono is also above 0.8\n",
        "#Calculate vif to see if any of them should be removed\n",
        "\n",
        "print('vif of shipping_option_price and price:',[vif(data[['shipping_option_price','price']].values,i)for i in range(2)])\n",
        "print('vif of badges_count and badges_product_quality:',[vif(data[['badges_count','badge_product_quality']].values,i)for i in range(2)])\n",
        "print('vif of cardigan and kimono:',[vif(data[['cardigan','kimono']].values,i)for i in range(2)])\n",
        "\n",
        "#Result shows that only collinearity between shipping_option_price and price should be considered\n",
        "#For price is the direct information customer can see, we will delete shipping_option_price\n",
        "data.drop(columns = 'shipping_option_price', inplace = True)\n",
        "data.shape"
      ],
      "id": "8v_kAGb7jIQZ",
      "execution_count": null,
      "outputs": [
        {
          "output_type": "stream",
          "name": "stdout",
          "text": [
            "vif of shipping_option_price and price: [22.875054933220945, 22.875054933220945]\n",
            "vif of badges_count and badges_product_quality: [2.965143913387906, 2.965143913387906]\n",
            "vif of cardigan and kimono: [3.7692307692307696, 3.7692307692307683]\n"
          ]
        },
        {
          "output_type": "execute_result",
          "data": {
            "text/plain": [
              "(1526, 32)"
            ]
          },
          "metadata": {},
          "execution_count": 59
        }
      ]
    },
    {
      "cell_type": "code",
      "metadata": {
        "id": "gDoFunbWde1m",
        "colab": {
          "base_uri": "https://localhost:8080/"
        },
        "outputId": "1679d711-4ee7-4911-8d5e-732ad9409920"
      },
      "source": [
        "#Then, we check correlation of all features and units_sold\n",
        "#Correlation of other features and units_sold are a bit low\n",
        "sales_corr = data.corr()\n",
        "sales_corr['level'].sort_values(ascending=False)"
      ],
      "id": "gDoFunbWde1m",
      "execution_count": null,
      "outputs": [
        {
          "output_type": "execute_result",
          "data": {
            "text/plain": [
              "level                           1.000000\n",
              "rating_count                    0.645860\n",
              "title_localised                 0.226083\n",
              "merchant_rating_count           0.216667\n",
              "merchant_rating                 0.202143\n",
              "top                             0.142650\n",
              "merchant_has_profile_picture    0.133119\n",
              "badge_product_quality           0.113346\n",
              "swimsuit                        0.112238\n",
              "n_tags                          0.084766\n",
              "badges_count                    0.074822\n",
              "rating                          0.063952\n",
              "shirt                           0.052420\n",
              "color_b                         0.051360\n",
              "inventory_total                 0.033336\n",
              "kimono                          0.027594\n",
              "coat                            0.025587\n",
              "price                           0.022576\n",
              "cardigan                        0.017813\n",
              "badge_local_product             0.010935\n",
              "dress                           0.005021\n",
              "mini                           -0.002131\n",
              "color_r                        -0.009602\n",
              "shipping_is_express            -0.014248\n",
              "color_g                        -0.024571\n",
              "sleepwear                      -0.025636\n",
              "loungewear                     -0.026488\n",
              "uses_ad_boosts                 -0.033489\n",
              "has_urgency_banner             -0.037197\n",
              "pajama                         -0.049076\n",
              "badge_fast_shipping            -0.049464\n",
              "discount                       -0.073747\n",
              "Name: level, dtype: float64"
            ]
          },
          "metadata": {},
          "execution_count": 60
        }
      ]
    },
    {
      "cell_type": "markdown",
      "metadata": {
        "id": "JRsq9j8-de1m"
      },
      "source": [
        "# Feature Selection"
      ],
      "id": "JRsq9j8-de1m"
    },
    {
      "cell_type": "code",
      "metadata": {
        "id": "Tv-wEBMLde1m"
      },
      "source": [
        "#Because the overall corelation coefficient of other features are not high, and not distinguishing\n",
        "#we will apply feature selection method to determine useful features"
      ],
      "id": "Tv-wEBMLde1m",
      "execution_count": null,
      "outputs": []
    },
    {
      "cell_type": "code",
      "metadata": {
        "id": "jOQWhooSde1m"
      },
      "source": [
        "#Split x,y data\n",
        "y = data['level']\n",
        "x = data.drop(columns = 'level')"
      ],
      "id": "jOQWhooSde1m",
      "execution_count": null,
      "outputs": []
    },
    {
      "cell_type": "code",
      "metadata": {
        "colab": {
          "base_uri": "https://localhost:8080/"
        },
        "id": "bImkvyOXde1n",
        "outputId": "72c1115f-a786-4d50-fe9a-0d580ed0cdce"
      },
      "source": [
        "select = SelectKBest(score_func = mutual_info_classif, k = 'all')\n",
        "select.fit(x,y)"
      ],
      "id": "bImkvyOXde1n",
      "execution_count": null,
      "outputs": [
        {
          "output_type": "execute_result",
          "data": {
            "text/plain": [
              "SelectKBest(k='all',\n",
              "            score_func=<function mutual_info_classif at 0x7f148e375680>)"
            ]
          },
          "metadata": {},
          "execution_count": 63
        }
      ]
    },
    {
      "cell_type": "code",
      "metadata": {
        "colab": {
          "base_uri": "https://localhost:8080/",
          "height": 505
        },
        "id": "VeM3OjwFde1n",
        "outputId": "dd9f9629-1c29-4a27-c6c4-e34c84ae5563"
      },
      "source": [
        "fig = plt.figure(figsize = (10, 8))\n",
        "plt.bar([i for i in range(len(select.scores_))], select.scores_,color=\"teal\")\n",
        "#plt.tick_params(color='white', labelcolor='white')\n",
        "plt.xlabel('Features',fontsize = 18)\n",
        "plt.ylabel('Score of Features',fontsize = 18)\n",
        "plt.show()"
      ],
      "id": "VeM3OjwFde1n",
      "execution_count": null,
      "outputs": [
        {
          "output_type": "display_data",
          "data": {
            "image/png": "[encoded data removed]",
            "text/plain": [
              "<Figure size 720x576 with 1 Axes>"
            ]
          },
          "metadata": {
            "needs_background": "light"
          }
        }
      ]
    },
    {
      "cell_type": "code",
      "metadata": {
        "id": "lRTkRDU5de04",
        "colab": {
          "base_uri": "https://localhost:8080/"
        },
        "outputId": "37ecac53-ecae-4556-a87a-07f983fde35f"
      },
      "source": [
        "select_features = SelectKBest(score_func = mutual_info_classif, k = 9)\n",
        "select_features.fit(x,y)"
      ],
      "id": "lRTkRDU5de04",
      "execution_count": null,
      "outputs": [
        {
          "output_type": "execute_result",
          "data": {
            "text/plain": [
              "SelectKBest(k=9, score_func=<function mutual_info_classif at 0x7f148e375680>)"
            ]
          },
          "metadata": {},
          "execution_count": 93
        }
      ]
    },
    {
      "cell_type": "code",
      "metadata": {
        "colab": {
          "base_uri": "https://localhost:8080/"
        },
        "id": "HbnP1HR9de04",
        "outputId": "08027d64-225c-41e3-b003-a2dd11753633"
      },
      "source": [
        "cols = select_features.get_support(indices=True)\n",
        "colss=[]\n",
        "for i in cols:\n",
        "    colss.append(data.columns[i])"
      ],
      "id": "HbnP1HR9de04",
      "execution_count": null,
      "outputs": [
        {
          "output_type": "execute_result",
          "data": {
            "text/plain": [
              "['rating_count',\n",
              " 'rating',\n",
              " 'discount',\n",
              " 'title_localised',\n",
              " 'price',\n",
              " 'badges_count',\n",
              " 'n_tags',\n",
              " 'top',\n",
              " 'uses_ad_boosts']"
            ]
          },
          "metadata": {},
          "execution_count": 97
        }
      ]
    },
    {
      "cell_type": "code",
      "metadata": {
        "id": "sHDe8t31de05"
      },
      "source": [
        "col_touse_n=['rating_count', 'rating', 'discount', 'title_localised','price','badges_count', 'n_tags','top','uses_ad_boosts']\n",
        "data_m=data[col_touse_n]   \n",
        "#data_m store x to use"
      ],
      "id": "sHDe8t31de05",
      "execution_count": null,
      "outputs": []
    },
    {
      "cell_type": "code",
      "metadata": {
        "colab": {
          "base_uri": "https://localhost:8080/",
          "height": 320
        },
        "id": "4i45I-rude1p",
        "scrolled": true,
        "outputId": "e3881971-3deb-446c-90b5-52570a0bd49c"
      },
      "source": [
        "data_m.describe()"
      ],
      "id": "4i45I-rude1p",
      "execution_count": null,
      "outputs": [
        {
          "output_type": "execute_result",
          "data": {
            "text/html": [
              "<div>\n",
              "<style scoped>\n",
              "    .dataframe tbody tr th:only-of-type {\n",
              "        vertical-align: middle;\n",
              "    }\n",
              "\n",
              "    .dataframe tbody tr th {\n",
              "        vertical-align: top;\n",
              "    }\n",
              "\n",
              "    .dataframe thead th {\n",
              "        text-align: right;\n",
              "    }\n",
              "</style>\n",
              "<table border=\"1\" class=\"dataframe\">\n",
              "  <thead>\n",
              "    <tr style=\"text-align: right;\">\n",
              "      <th></th>\n",
              "      <th>rating_count</th>\n",
              "      <th>rating</th>\n",
              "      <th>discount</th>\n",
              "      <th>title_localised</th>\n",
              "      <th>price</th>\n",
              "      <th>badges_count</th>\n",
              "      <th>n_tags</th>\n",
              "      <th>top</th>\n",
              "      <th>uses_ad_boosts</th>\n",
              "    </tr>\n",
              "  </thead>\n",
              "  <tbody>\n",
              "    <tr>\n",
              "      <th>count</th>\n",
              "      <td>1526.000000</td>\n",
              "      <td>1526.000000</td>\n",
              "      <td>1526.000000</td>\n",
              "      <td>1526.000000</td>\n",
              "      <td>1526.000000</td>\n",
              "      <td>1526.000000</td>\n",
              "      <td>1526.000000</td>\n",
              "      <td>1526.000000</td>\n",
              "      <td>1526.000000</td>\n",
              "    </tr>\n",
              "    <tr>\n",
              "      <th>mean</th>\n",
              "      <td>915.100917</td>\n",
              "      <td>3.814777</td>\n",
              "      <td>25.851725</td>\n",
              "      <td>0.901704</td>\n",
              "      <td>8.349312</td>\n",
              "      <td>0.106815</td>\n",
              "      <td>17.417431</td>\n",
              "      <td>0.353866</td>\n",
              "      <td>0.439712</td>\n",
              "    </tr>\n",
              "    <tr>\n",
              "      <th>std</th>\n",
              "      <td>2008.473392</td>\n",
              "      <td>0.497746</td>\n",
              "      <td>40.831455</td>\n",
              "      <td>0.297812</td>\n",
              "      <td>3.937228</td>\n",
              "      <td>0.343167</td>\n",
              "      <td>4.100627</td>\n",
              "      <td>0.478325</td>\n",
              "      <td>0.496515</td>\n",
              "    </tr>\n",
              "    <tr>\n",
              "      <th>min</th>\n",
              "      <td>0.000000</td>\n",
              "      <td>1.000000</td>\n",
              "      <td>-18.200000</td>\n",
              "      <td>0.000000</td>\n",
              "      <td>1.000000</td>\n",
              "      <td>0.000000</td>\n",
              "      <td>8.000000</td>\n",
              "      <td>0.000000</td>\n",
              "      <td>0.000000</td>\n",
              "    </tr>\n",
              "    <tr>\n",
              "      <th>25%</th>\n",
              "      <td>27.000000</td>\n",
              "      <td>3.550000</td>\n",
              "      <td>-12.500000</td>\n",
              "      <td>1.000000</td>\n",
              "      <td>5.812500</td>\n",
              "      <td>0.000000</td>\n",
              "      <td>14.000000</td>\n",
              "      <td>0.000000</td>\n",
              "      <td>0.000000</td>\n",
              "    </tr>\n",
              "    <tr>\n",
              "      <th>50%</th>\n",
              "      <td>166.000000</td>\n",
              "      <td>3.850000</td>\n",
              "      <td>5.666667</td>\n",
              "      <td>1.000000</td>\n",
              "      <td>8.000000</td>\n",
              "      <td>0.000000</td>\n",
              "      <td>17.000000</td>\n",
              "      <td>0.000000</td>\n",
              "      <td>0.000000</td>\n",
              "    </tr>\n",
              "    <tr>\n",
              "      <th>75%</th>\n",
              "      <td>881.750000</td>\n",
              "      <td>4.100000</td>\n",
              "      <td>72.069767</td>\n",
              "      <td>1.000000</td>\n",
              "      <td>11.000000</td>\n",
              "      <td>0.000000</td>\n",
              "      <td>20.000000</td>\n",
              "      <td>1.000000</td>\n",
              "      <td>1.000000</td>\n",
              "    </tr>\n",
              "    <tr>\n",
              "      <th>max</th>\n",
              "      <td>20744.000000</td>\n",
              "      <td>5.000000</td>\n",
              "      <td>96.928571</td>\n",
              "      <td>1.000000</td>\n",
              "      <td>49.000000</td>\n",
              "      <td>3.000000</td>\n",
              "      <td>41.000000</td>\n",
              "      <td>1.000000</td>\n",
              "      <td>1.000000</td>\n",
              "    </tr>\n",
              "  </tbody>\n",
              "</table>\n",
              "</div>"
            ],
            "text/plain": [
              "       rating_count       rating  ...          top  uses_ad_boosts\n",
              "count   1526.000000  1526.000000  ...  1526.000000     1526.000000\n",
              "mean     915.100917     3.814777  ...     0.353866        0.439712\n",
              "std     2008.473392     0.497746  ...     0.478325        0.496515\n",
              "min        0.000000     1.000000  ...     0.000000        0.000000\n",
              "25%       27.000000     3.550000  ...     0.000000        0.000000\n",
              "50%      166.000000     3.850000  ...     0.000000        0.000000\n",
              "75%      881.750000     4.100000  ...     1.000000        1.000000\n",
              "max    20744.000000     5.000000  ...     1.000000        1.000000\n",
              "\n",
              "[8 rows x 9 columns]"
            ]
          },
          "metadata": {},
          "execution_count": 99
        }
      ]
    },
    {
      "cell_type": "code",
      "metadata": {
        "colab": {
          "base_uri": "https://localhost:8080/"
        },
        "id": "RIIH8Z4Sde1p",
        "outputId": "77e5d164-268d-425c-e27d-7fe1cb823a42"
      },
      "source": [
        "data_m.shape"
      ],
      "id": "RIIH8Z4Sde1p",
      "execution_count": null,
      "outputs": [
        {
          "output_type": "execute_result",
          "data": {
            "text/plain": [
              "(1526, 9)"
            ]
          },
          "metadata": {},
          "execution_count": 100
        }
      ]
    },
    {
      "cell_type": "markdown",
      "metadata": {
        "id": "OOIbc3bVeVUw"
      },
      "source": [
        "# Modelling-Neural Network"
      ],
      "id": "OOIbc3bVeVUw"
    },
    {
      "cell_type": "code",
      "metadata": {
        "colab": {
          "base_uri": "https://localhost:8080/"
        },
        "id": "w0qrVBhMefYb",
        "outputId": "7998d532-c338-4ff0-ab12-743bf1616d40"
      },
      "source": [
        "y = data['level']\n",
        "x = data_m\n",
        "\n",
        "x_train,x_test,y_train,y_test = train_test_split(x, y, test_size = 0.3,random_state = 1)\n",
        "print('Shape of training set ', x_train.shape)\n",
        "print('Shape of test set ', x_test.shape)"
      ],
      "id": "w0qrVBhMefYb",
      "execution_count": null,
      "outputs": [
        {
          "output_type": "stream",
          "name": "stdout",
          "text": [
            "Shape of training set  (1068, 10)\n",
            "Shape of test set  (458, 10)\n"
          ]
        }
      ]
    },
    {
      "cell_type": "code",
      "metadata": {
        "id": "oG_IR0kGmPY6"
      },
      "source": [
        "scaler=StandardScaler()\n",
        "scaler.fit(x_train)\n",
        "x_train_scaled=scaler.transform(x_train)\n",
        "x_test_scaled=scaler.transform(x_test)"
      ],
      "id": "oG_IR0kGmPY6",
      "execution_count": null,
      "outputs": []
    },
    {
      "cell_type": "code",
      "metadata": {
        "colab": {
          "base_uri": "https://localhost:8080/"
        },
        "id": "CHhlbVILoGGu",
        "outputId": "bd8a022b-970c-4617-dcd9-2d32163d22ac"
      },
      "source": [
        "mlp=MLPClassifier(solver='lbfgs',random_state=42,hidden_layer_sizes=[3,5],activation='relu',alpha=1)\n",
        "mlp.fit(x_train_scaled,y_train)\n",
        "print('Accuracy on training set:{:.3f}'.format(mlp.score(x_train_scaled,y_train)))\n",
        "print('Accuracy on testing set:{:.3f}'.format(mlp.score(x_test_scaled,y_test)))\n",
        "\n",
        "#Accuracy on training set:0.757  0.853  0.847  0.857\n",
        "#Accuracy on testing set:0.745   0.832  0.838  0.838"
      ],
      "id": "CHhlbVILoGGu",
      "execution_count": null,
      "outputs": [
        {
          "output_type": "stream",
          "name": "stdout",
          "text": [
            "Accuracy on training set:0.877\n",
            "Accuracy on testing set:0.856\n"
          ]
        }
      ]
    },
    {
      "cell_type": "markdown",
      "metadata": {
        "id": "1DLQHsoxde06"
      },
      "source": [
        "# Modelling-Decision Tree"
      ],
      "id": "1DLQHsoxde06"
    },
    {
      "cell_type": "code",
      "metadata": {
        "colab": {
          "base_uri": "https://localhost:8080/"
        },
        "id": "MyzoM-yade06",
        "outputId": "f9dd115a-64b2-400a-8197-9779ae122254"
      },
      "source": [
        "classifier_DTC = DecisionTreeClassifier(random_state = 66,max_leaf_nodes = 8)\n",
        "classifier_DTC.fit(x_train, y_train)\n",
        "\n",
        "y_train_DTC = classifier_DTC.predict(x_train)\n",
        "y_test_DTC = classifier_DTC.predict(x_test)\n",
        "\n",
        "print('Accuracy on training set:{:.3f}'.format(accuracy_score(y_train, y_train_DTC)))\n",
        "print('Accuracy on testing set:{:.3f}'.format(accuracy_score(y_test, y_test_DTC)))\n",
        "\n",
        "# Accuracy on training set:0.716  0.86\n",
        "# Accuracy on testing set:0.699  0.854"
      ],
      "id": "MyzoM-yade06",
      "execution_count": null,
      "outputs": [
        {
          "output_type": "stream",
          "name": "stdout",
          "text": [
            "Accuracy on training set:0.860\n",
            "Accuracy on testing set:0.854\n"
          ]
        }
      ]
    },
    {
      "cell_type": "markdown",
      "metadata": {
        "id": "pfHhPwGwde06"
      },
      "source": [
        "# Modelling-Random Forest"
      ],
      "id": "pfHhPwGwde06"
    },
    {
      "cell_type": "code",
      "metadata": {
        "colab": {
          "base_uri": "https://localhost:8080/"
        },
        "id": "sHY1YHSOde06",
        "outputId": "67c26f25-a8b9-4889-bcc4-9dd01ff7ff1d"
      },
      "source": [
        "classifier_RFC = RandomForestClassifier(random_state = 1,n_estimators=30, max_leaf_nodes = 50)\n",
        "classifier_RFC.fit(x_train, y_train)\n",
        "\n",
        "y_train_RFC = classifier_RFC.predict(x_train)\n",
        "y_test_RFC = classifier_RFC.predict(x_test)\n",
        "print('Accuracy on training set:{:.3f}'.format(accuracy_score(y_train, y_train_RFC)))\n",
        "print('Accuracy on testing set:{:.3f}'.format(accuracy_score(y_test, y_test_RFC)))\n",
        "#n_estimators=30, max_leaf_nodes = 50\n",
        "#Accuracy on training set:0.835  0.994  0.911\n",
        "#Accuracy on testing set:0.666   0.972  0.858"
      ],
      "id": "sHY1YHSOde06",
      "execution_count": null,
      "outputs": [
        {
          "output_type": "stream",
          "name": "stdout",
          "text": [
            "Accuracy on training set:0.921\n",
            "Accuracy on testing set:0.858\n"
          ]
        }
      ]
    },
    {
      "cell_type": "code",
      "metadata": {
        "scrolled": true,
        "id": "Kn1mGQPvde06"
      },
      "source": [
        "from sklearn.model_selection import RandomizedSearchCV \n",
        "#define par\n",
        "n_estimators = [int(x) for x in np.linspace(start=5, stop=50, num=15)]\n",
        "max_features = ['auto', 'sqrt']\n",
        "max_depth = [int(x) for x in np.linspace(10, 110, num=11)]\n",
        "max_depth.append(None)\n",
        "min_samples_split = [2, 5, 10]\n",
        "min_samples_leaf = [1, 2, 4]\n",
        "bootstrap = [True, False]\n",
        "\n",
        "random_grid = {'n_estimators': n_estimators, 'max_features': max_features,\n",
        "               'max_depth': max_depth, 'min_samples_split': min_samples_split,\n",
        "               'min_samples_leaf': min_samples_leaf, 'bootstrap': bootstrap}\n",
        "\n",
        "rf_clf = RandomForestClassifier(random_state=42)\n",
        "\n",
        "rf_cv = RandomizedSearchCV(estimator=rf_clf, scoring='f1',param_distributions=random_grid, n_iter=100, cv=3, \n",
        "                               verbose=2, random_state=42, n_jobs=-1)\n",
        "\n",
        "rf_cv.fit(x_train, y_train)\n",
        "rf_best_params = rf_cv.best_params_\n",
        "print(f\"Best paramters: {rf_best_params})\")\n",
        "\n",
        "rf_clf = RandomForestClassifier(**rf_best_params)\n",
        "rf_clf.fit(x_train, y_train)\n",
        "\n",
        "#Best paramters: {'n_estimators': 14, 'min_samples_split': 2, 'min_samples_leaf': 2, 'max_features': 'auto', 'max_depth': 20, 'bootstrap': False})"
      ],
      "id": "Kn1mGQPvde06",
      "execution_count": null,
      "outputs": []
    },
    {
      "cell_type": "code",
      "metadata": {
        "id": "ssaa3asBde06"
      },
      "source": [
        "from sklearn.metrics import accuracy_score, confusion_matrix, classification_report\n",
        "\n",
        "def print_score(clf, X_train, y_train, X_test, y_test, train=True): #Accuracy Report\n",
        "    if train:\n",
        "        pred = clf.predict(X_train)\n",
        "        clf_report = pd.DataFrame(classification_report(y_train, pred, output_dict=True))\n",
        "        print(\"Train Result:\\n================================================\")\n",
        "        print(f\"Accuracy Score: {accuracy_score(y_train, pred) * 100:.2f}%\")\n",
        "        print(\"_______________________________________________\")\n",
        "        print(f\"CLASSIFICATION REPORT:\\n{clf_report}\")\n",
        "        print(\"_______________________________________________\")\n",
        "        print(f\"Confusion Matrix: \\n {confusion_matrix(y_train, pred)}\\n\")\n",
        "        \n",
        "    elif train==False: #test data\n",
        "        pred = clf.predict(X_test)\n",
        "        clf_report = pd.DataFrame(classification_report(y_test, pred, output_dict=True))\n",
        "        print(\"Test Result:\\n================================================\")        \n",
        "        print(f\"Accuracy Score: {accuracy_score(y_test, pred) * 100:.2f}%\")\n",
        "        print(\"_______________________________________________\")\n",
        "        print(f\"CLASSIFICATION REPORT:\\n{clf_report}\")\n",
        "        print(\"_______________________________________________\")\n",
        "        print(f\"Confusion Matrix: \\n {confusion_matrix(y_test, pred)}\\n\")"
      ],
      "id": "ssaa3asBde06",
      "execution_count": null,
      "outputs": []
    },
    {
      "cell_type": "code",
      "metadata": {
        "id": "fKRQczcKde06"
      },
      "source": [
        "#####evaluate model#####\n",
        "print_score(rf_clf, x_train, y_train, x_test, y_test, train=True)\n",
        "print_score(rf_clf, x_train, y_train, x_test, y_test, train=False)\n",
        "#Accuracy on training set:99.81%\n",
        "#Accuracy on testing set:72.05%"
      ],
      "id": "fKRQczcKde06",
      "execution_count": null,
      "outputs": []
    },
    {
      "cell_type": "markdown",
      "metadata": {
        "id": "mh-i7jVOde07"
      },
      "source": [
        "# Modelling - Gradient Boosting"
      ],
      "id": "mh-i7jVOde07"
    },
    {
      "cell_type": "code",
      "metadata": {
        "colab": {
          "base_uri": "https://localhost:8080/"
        },
        "id": "Lna3FnNVde07",
        "outputId": "2cc4cdbd-32e6-49e3-d2ed-dbe2e07d1c61"
      },
      "source": [
        "from sklearn.ensemble import GradientBoostingClassifier\n",
        "\n",
        "classifier_GBC = GradientBoostingClassifier(random_state = 3)\n",
        "classifier_GBC.fit(x_train, y_train)\n",
        "\n",
        "y_pred_GBC = classifier_GBC.predict(x_test)\n",
        "accuracy_score(y_test, y_pred_GBC)\n"
      ],
      "id": "Lna3FnNVde07",
      "execution_count": null,
      "outputs": [
        {
          "output_type": "execute_result",
          "data": {
            "text/plain": [
              "0.8493449781659389"
            ]
          },
          "metadata": {},
          "execution_count": 76
        }
      ]
    },
    {
      "cell_type": "code",
      "metadata": {
        "colab": {
          "base_uri": "https://localhost:8080/"
        },
        "id": "V48-3cELde07",
        "outputId": "79f90ec9-970b-411d-aec6-806c368e304b"
      },
      "source": [
        "print_score(classifier_GBC, x_train, y_train, x_test, y_test, train=True)\n",
        "print_score(classifier_GBC, x_train, y_train, x_test, y_test, train=False)\n",
        "#Accuracy on training set:98.5%\n",
        "#Accuracy on testing set:73.36%"
      ],
      "id": "V48-3cELde07",
      "execution_count": null,
      "outputs": [
        {
          "output_type": "stream",
          "name": "stdout",
          "text": [
            "Train Result:\n",
            "================================================\n",
            "Accuracy Score: 98.13%\n",
            "_______________________________________________\n",
            "CLASSIFICATION REPORT:\n",
            "                    1           2  ...    macro avg  weighted avg\n",
            "precision    0.978673    0.978648  ...     0.984735      0.981316\n",
            "recall       0.997585    0.961538  ...     0.979023      0.981273\n",
            "f1-score     0.988038    0.970018  ...     0.981809      0.981229\n",
            "support    414.000000  286.000000  ...  1068.000000   1068.000000\n",
            "\n",
            "[4 rows x 7 columns]\n",
            "_______________________________________________\n",
            "Confusion Matrix: \n",
            " [[413   1   0   0]\n",
            " [  8 275   3   0]\n",
            " [  1   5 267   0]\n",
            " [  0   0   2  93]]\n",
            "\n",
            "Test Result:\n",
            "================================================\n",
            "Accuracy Score: 84.93%\n",
            "_______________________________________________\n",
            "CLASSIFICATION REPORT:\n",
            "                    1           2  ...   macro avg  weighted avg\n",
            "precision    0.911765    0.788462  ...    0.832366      0.845958\n",
            "recall       0.973822    0.700855  ...    0.815999      0.849345\n",
            "f1-score     0.941772    0.742081  ...    0.823047      0.846493\n",
            "support    191.000000  117.000000  ...  458.000000    458.000000\n",
            "\n",
            "[4 rows x 7 columns]\n",
            "_______________________________________________\n",
            "Confusion Matrix: \n",
            " [[186   5   0   0]\n",
            " [ 18  82  17   0]\n",
            " [  0  17  97   5]\n",
            " [  0   0   7  24]]\n",
            "\n"
          ]
        }
      ]
    },
    {
      "cell_type": "markdown",
      "metadata": {
        "id": "UR6N7nF_de07"
      },
      "source": [
        "# Modelling- XGboosting"
      ],
      "id": "UR6N7nF_de07"
    },
    {
      "cell_type": "code",
      "metadata": {
        "colab": {
          "base_uri": "https://localhost:8080/"
        },
        "id": "zoZupHUSde07",
        "outputId": "4545deaf-67d0-4007-8a17-a52c588ff37b"
      },
      "source": [
        "from xgboost import XGBClassifier\n",
        "classifier_XGB = XGBClassifier(max_depth=3, min_child_weight=3, gamma=0.5, colsample_bytree=0.5, subsample=0.5)\n",
        "classifier_XGB.fit(x_train, y_train)\n",
        "\n",
        "y_train_XGB = classifier_XGB.predict(x_train)\n",
        "y_pred_XGB = classifier_XGB.predict(x_test)\n",
        "\n",
        "print('Accuracy on training set:{:.3f}'.format(accuracy_score(y_train, y_train_XGB)))\n",
        "print('Accuracy on testing set:{:.3f}'.format(accuracy_score(y_test, y_pred_XGB)))\n",
        "\n",
        "#Accuracy on training set:0.839\n",
        "#Accuracy on testing set:0.723\n",
        "######################################################################################################################################"
      ],
      "id": "zoZupHUSde07",
      "execution_count": null,
      "outputs": [
        {
          "output_type": "stream",
          "name": "stdout",
          "text": [
            "Accuracy on training set:0.914\n",
            "Accuracy on testing set:0.867\n"
          ]
        }
      ]
    },
    {
      "cell_type": "markdown",
      "metadata": {
        "id": "18-nzw0Ude07"
      },
      "source": [
        "# Modelling- KNN"
      ],
      "id": "18-nzw0Ude07"
    },
    {
      "cell_type": "code",
      "metadata": {
        "colab": {
          "base_uri": "https://localhost:8080/"
        },
        "id": "wEa4btB-de08",
        "outputId": "a946fe36-789c-498a-a28a-bc855abd09cf"
      },
      "source": [
        "from sklearn.metrics import confusion_matrix, accuracy_score\n",
        "from sklearn.neighbors import KNeighborsClassifier\n",
        "\n",
        "classifier_KNN = KNeighborsClassifier(n_neighbors = 25)\n",
        "classifier_KNN.fit(x_train_scaled, y_train)\n",
        "\n",
        "y_train_KNN = classifier_KNN.predict(x_train_scaled)\n",
        "y_pred_KNN = classifier_KNN.predict(x_test_scaled)\n",
        "\n",
        "print('Accuracy on training set:{:.3f}'.format(accuracy_score(y_train, y_train_KNN)))\n",
        "print('Accuracy on testing set:{:.3f}'.format(accuracy_score(y_test, y_pred_KNN)))\n",
        "\n",
        "#Accuracy on training set:0.738\n",
        "#Accuracy on testing set:0.718"
      ],
      "id": "wEa4btB-de08",
      "execution_count": null,
      "outputs": [
        {
          "output_type": "stream",
          "name": "stdout",
          "text": [
            "Accuracy on training set:0.601\n",
            "Accuracy on testing set:0.546\n"
          ]
        }
      ]
    },
    {
      "cell_type": "markdown",
      "metadata": {
        "id": "F6RJBTUTkwND"
      },
      "source": [
        "# Cross Validation Score"
      ],
      "id": "F6RJBTUTkwND"
    },
    {
      "cell_type": "code",
      "metadata": {
        "id": "CVlpXEF6de08"
      },
      "source": [
        "from sklearn.model_selection import cross_val_score\n",
        "#for non-scaling models\n",
        "\n",
        "classifiers = [classifier_DTC,\n",
        "        classifier_RFC,\n",
        "        classifier_XGB]\n",
        "classifiers_names = ['Decision Tree',\n",
        "           'Random Forest',\n",
        "           'XG Boost']\n",
        "accuracy_mean = []\n",
        "\n",
        "for cl in classifiers :\n",
        "    accuracies = cross_val_score(estimator = cl, \n",
        "                                 X = x_train, \n",
        "                                 y = y_train, \n",
        "                                 cv = 6) #交叉验证评分\n",
        "    accuracy_mean.append(accuracies.mean()*100)\n",
        "\n",
        "    \n",
        "accuracy_df1 = pd.DataFrame({'Classifier': classifiers_names,'Accuracy Mean': accuracy_mean})"
      ],
      "id": "CVlpXEF6de08",
      "execution_count": null,
      "outputs": []
    },
    {
      "cell_type": "code",
      "metadata": {
        "colab": {
          "base_uri": "https://localhost:8080/",
          "height": 202
        },
        "id": "PPku-4DYgMls",
        "outputId": "f530db2d-2eb5-4969-96cc-31ea1dcbf76c"
      },
      "source": [
        "#for scaled models \n",
        "\n",
        "classifiers = [mlp,\n",
        "        classifier_KNN]\n",
        "classifiers_names = ['Neural Newwork',\n",
        "           'KNeighborsClassifier']\n",
        "accuracy_mean = []\n",
        "\n",
        "for cl in classifiers :\n",
        "    accuracies = cross_val_score(estimator = cl, \n",
        "                                 X = x_train_scaled, \n",
        "                                 y = y_train, \n",
        "                                 cv = 6) #交叉验证评分\n",
        "    accuracy_mean.append(accuracies.mean()*100)\n",
        "\n",
        "    \n",
        "accuracy_df2 = pd.DataFrame({'Classifier': classifiers_names,'Accuracy Mean': accuracy_mean})\n",
        "accuracy_df=pd.concat([accuracy_df1,accuracy_df2],axis=0)\n",
        "accuracy_df.sort_values('Accuracy Mean',ascending=False)"
      ],
      "id": "PPku-4DYgMls",
      "execution_count": null,
      "outputs": [
        {
          "output_type": "execute_result",
          "data": {
            "text/html": [
              "<div>\n",
              "<style scoped>\n",
              "    .dataframe tbody tr th:only-of-type {\n",
              "        vertical-align: middle;\n",
              "    }\n",
              "\n",
              "    .dataframe tbody tr th {\n",
              "        vertical-align: top;\n",
              "    }\n",
              "\n",
              "    .dataframe thead th {\n",
              "        text-align: right;\n",
              "    }\n",
              "</style>\n",
              "<table border=\"1\" class=\"dataframe\">\n",
              "  <thead>\n",
              "    <tr style=\"text-align: right;\">\n",
              "      <th></th>\n",
              "      <th>Classifier</th>\n",
              "      <th>Accuracy Mean</th>\n",
              "    </tr>\n",
              "  </thead>\n",
              "  <tbody>\n",
              "    <tr>\n",
              "      <th>2</th>\n",
              "      <td>XG Boost</td>\n",
              "      <td>85.205993</td>\n",
              "    </tr>\n",
              "    <tr>\n",
              "      <th>0</th>\n",
              "      <td>Neural Newwork</td>\n",
              "      <td>84.737828</td>\n",
              "    </tr>\n",
              "    <tr>\n",
              "      <th>1</th>\n",
              "      <td>Random Forest</td>\n",
              "      <td>84.082397</td>\n",
              "    </tr>\n",
              "    <tr>\n",
              "      <th>0</th>\n",
              "      <td>Decision Tree</td>\n",
              "      <td>83.895131</td>\n",
              "    </tr>\n",
              "    <tr>\n",
              "      <th>1</th>\n",
              "      <td>KNeighborsClassifier</td>\n",
              "      <td>54.868914</td>\n",
              "    </tr>\n",
              "  </tbody>\n",
              "</table>\n",
              "</div>"
            ],
            "text/plain": [
              "             Classifier  Accuracy Mean\n",
              "2              XG Boost      85.205993\n",
              "0        Neural Newwork      84.737828\n",
              "1         Random Forest      84.082397\n",
              "0         Decision Tree      83.895131\n",
              "1  KNeighborsClassifier      54.868914"
            ]
          },
          "metadata": {},
          "execution_count": 101
        }
      ]
    },
    {
      "cell_type": "code",
      "metadata": {
        "id": "7eqH7Ah-de08"
      },
      "source": [
        "#XGBoost\n",
        "#Accuracy on training set:0.839\n",
        "#Accuracy on testing set:0.723\n",
        "#Accuracy of Cross validation: 0.713"
      ],
      "id": "7eqH7Ah-de08",
      "execution_count": null,
      "outputs": []
    }
  ]
}